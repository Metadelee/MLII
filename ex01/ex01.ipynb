{
 "cells": [
  {
   "cell_type": "markdown",
   "metadata": {},
   "source": [
    "## Loading the dataset "
   ]
  },
  {
   "cell_type": "code",
   "execution_count": 1,
   "metadata": {
    "collapsed": false
   },
   "outputs": [
    {
     "name": "stdout",
     "output_type": "stream",
     "text": [
      "dict_keys(['DESCR', 'images', 'target_names', 'data', 'target'])\n"
     ]
    }
   ],
   "source": [
    "from sklearn.datasets import load_digits\n",
    "digits = load_digits ()\n",
    "print(digits.keys())\n",
    "data = digits[\"data\"]\n",
    "images = digits[\"images\"]\n",
    "target = digits[\"target\"]\n",
    "target_names = digits[\"target_names\"]\n",
    "import numpy as np"
   ]
  },
  {
   "cell_type": "code",
   "execution_count": 2,
   "metadata": {
    "collapsed": false
   },
   "outputs": [
    {
     "data": {
      "text/plain": [
       "(357, 64)"
      ]
     },
     "execution_count": 2,
     "metadata": {},
     "output_type": "execute_result"
    }
   ],
   "source": [
    "# Create feature matrix X and groundtruth y\n",
    "y = target[(target == 3) | (target == 8)]\n",
    "y[y == 3] = 1\n",
    "y[y == 8] = -1\n",
    "images_ = images[(target == 3) | (target == 8)]\n",
    "X = data[(target == 3) | (target == 8)]\n",
    "np.shape(X)"
   ]
  },
  {
   "cell_type": "markdown",
   "metadata": {},
   "source": [
    "## Basic functions"
   ]
  },
  {
   "cell_type": "code",
   "execution_count": 126,
   "metadata": {
    "collapsed": false
   },
   "outputs": [],
   "source": [
    "def sigmoid(Z):\n",
    "    return 1/(1+np.exp(-Z))\n",
    "\n",
    "def gradient(beta, X, y):\n",
    "    gradients = (1-sigmoid(y[:, np.newaxis] * X @ beta)).reshape(-1,1) * (-y[:, np.newaxis] * X)\n",
    "    return np.sum(gradients, 0) / len(y)\n",
    "\n",
    "def gradient_i(beta, x, y):\n",
    "    return (1-sigmoid(y * x @ beta)) * (-y * x)\n",
    "\n",
    "def predict(beta, X):\n",
    "    p = sigmoid(np.sign(X @ beta))\n",
    "    p[p >= 0] = 1\n",
    "    p[p != 1] = -1\n",
    "    return p\n",
    "\n",
    "def zero_one_loss(y_p, y_g):\n",
    "        return np.sum(y_p != y_g)"
   ]
  },
  {
   "cell_type": "code",
   "execution_count": 127,
   "metadata": {
    "collapsed": false
   },
   "outputs": [
    {
     "data": {
      "text/plain": [
       "array([ 0. ,  0. ,  2. ,  5.5,  7.5,  3.5,  0. ,  0. ,  0. ,  1. ,  7.5,\n",
       "        7. ,  4.5,  7.5,  0.5,  0. ,  0. ,  4. ,  7.5,  0.5,  3. ,  8. ,\n",
       "        2.5,  0. ,  0. ,  3. ,  7. ,  6.5,  7.5,  3. ,  0. ,  0. ,  0. ,\n",
       "        0.5,  8. ,  8. ,  3. ,  0. ,  0. ,  0. ,  0. ,  2. ,  7.5,  5.5,\n",
       "        7.5,  0.5,  0. ,  0. ,  0. ,  0.5,  6. ,  1.5,  3.5,  4.5,  0. ,\n",
       "        0. ,  0. ,  0. ,  2. ,  7. ,  8. ,  3. ,  0. ,  0. ])"
      ]
     },
     "execution_count": 127,
     "metadata": {},
     "output_type": "execute_result"
    }
   ],
   "source": [
    "gradient_i(b_, x_,y_)"
   ]
  },
  {
   "cell_type": "code",
   "execution_count": 6,
   "metadata": {
    "collapsed": false
   },
   "outputs": [
    {
     "data": {
      "text/plain": [
       "array([10, 11, 12, 13, 14])"
      ]
     },
     "execution_count": 6,
     "metadata": {},
     "output_type": "execute_result"
    }
   ],
   "source": []
  },
  {
   "cell_type": "markdown",
   "metadata": {},
   "source": [
    "## Optimization Method\n",
    "SGD and its variants use sampling without replacement.\n",
    "It reduces the number of sampling calls by shuffling an index array only once per epoch and\n",
    "simplifies slicing in mini batch versions."
   ]
  },
  {
   "cell_type": "code",
   "execution_count": 130,
   "metadata": {
    "collapsed": false
   },
   "outputs": [],
   "source": [
    "def gradient_descent(beta, X, y, tau, m=10):\n",
    "    for t in range(m):\n",
    "        beta = beta - tau * gradient(beta, X, y)\n",
    "    return beta\n",
    "\n",
    "def stochastic_gradient_descent(beta, X, y, tau_0, gamma=1, m=150):\n",
    "    tau = tau_0\n",
    "    n = len(y)\n",
    "    indexx = np.arange(n)\n",
    "    for t in range(m):\n",
    "        i = np.mod(t, n) # np modulus returns 0 if divisor = 0\n",
    "        if i == 0:\n",
    "            np.random.shuffle(indexx)\n",
    "        beta -= tau*gradient_i(beta, X[indexx[i]], y[indexx[i]])\n",
    "        tau = tau_0 / (1 + t*gamma)\n",
    "    return beta\n",
    "\n",
    "\n",
    "def stochastic_gradient_mini(beta, X, y, tau_0, gamma=1, m=150, b=30):\n",
    "    tau = tau_0\n",
    "    n = len(y)\n",
    "    indexx = np.arange(n)\n",
    "    np.shuffle(indexx)\n",
    "    full, rest = np.mod(n, b)\n",
    "    for t in range(m):\n",
    "        if np.mod(t, full+1) == 0:\n",
    "            # every last minibatch per epoch gets filled with random samples\n",
    "            i = np.append(indexx[b*t,:], np.random.randint(n, size=rest))\n",
    "            np.shuffle(indexx)\n",
    "        else:\n",
    "            i = indexx[b*t,b*(t+1)]\n",
    "        beta -= tau*gradient(beta,X[i],y[i])\n",
    "        tau = tau_0/(1 + t*gamma)\n",
    "    return beta\n",
    "                     \n",
    "                          \n",
    "def stochastic_gradient_mom(beta, X, y, tau_0, mu=0.3, m=150):\n",
    "    tau = tau_0\n",
    "    n = len(y)\n",
    "    g = 0\n",
    "    indexx = np.arange(n)\n",
    "    for t in range(m):\n",
    "        i = np.mod(t, n) # np modulus returns 0 if divisor = 0\n",
    "        if i == 0:\n",
    "            np.random.shuffle(indexx)\n",
    "        g = mu * g + (1 - mu) * gradient_i(beta, X[indexx[i]], y[indexx[i]])\n",
    "        beta -= tau*g\n",
    "        tau = tau_0 / (1 + t*gamma)\n",
    "    return beta                          \n",
    "                          \n",
    "def average_stochastic_gradient(beta, X, y, tau_0, mu):\n",
    "    tau = tau_0\n",
    "    n = len(y)\n",
    "    g = 0\n",
    "    indexx = np.arange(n)\n",
    "    for t in range(m):\n",
    "        i = np.mod(t, n)\n",
    "        if i == 0:\n",
    "            np.random.shuffle(indexx)\n",
    "        g -= tau * gradient_i(beta, X[indexx[i]], y[indexx[i]])\n",
    "        beta = (1 - mu) * beta + mu * g\n",
    "        tau = tau_0 / np.power(1 + t*gamma,3/4)\n",
    "    return beta\n",
    "    \n",
    "def stochastic_average_gradient(beta, X, y, tau_0, m=150):  # Roux et al. [2012]\n",
    "    tau = tau_0\n",
    "    n = len(y)\n",
    "    indexx = np.arange(n)\n",
    "    gradients = np.zeros((n, beta.size))\n",
    "    for t in range(m):\n",
    "        i = np.mod(n, t)\n",
    "        if i == 0:\n",
    "            np.random.shuffle(indexx)\n",
    "        gradients[indexx[i]] = gradient_i(\n",
    "                        beta, x[indexx[i]], y[indexx[i]])\n",
    "        beta -= tau*gradients.mean(axis=0)\n",
    "        tau = tau_0 / (1 + t*gamma)\n",
    "    return beta\n",
    "        \n",
    "        \n",
    "def dual_coordinate_ascent(beta,X,y,tau,tau_0,gamma,mu):\n",
    "    a = np.random.rand(len(y))\n",
    "    beta =a*y*X.transpose()\n",
    "    b=1\n",
    "    for t in range(0,m):   \n",
    "        i = np.random.randint(0,len(y)-1,size=b)\n",
    "        a_[i] = np.clip(a(i), 0,1) # add formula \n",
    "        beta = beta+(a_(i)-a(i))*y[i_]*X[i,:].transpose()\n",
    "        tau = tau/(1+gamma*t)\n",
    "    return beta\n",
    "    \n",
    "def weighted_lest_squares(beta,X,y,tau,tau_0,gamma,mu):\n",
    "    \n",
    "    return beta\n",
    "    "
   ]
  },
  {
   "cell_type": "markdown",
   "metadata": {
    "collapsed": true
   },
   "source": [
    "2.3 Comparison\n",
    "==="
   ]
  },
  {
   "cell_type": "code",
   "execution_count": 87,
   "metadata": {
    "collapsed": false
   },
   "outputs": [],
   "source": [
    "from sklearn import cross_validation\n",
    "from itertools import product\n",
    "\n",
    "X, X_test, y, y_test = cross_validation.train_test_split(X, y,\n",
    "                                            random_state=0, test_size=0.3)\n",
    "taus = [0.001, 0.01, 0.1]\n",
    "mus = [0.1, 0.2, 0.5]\n",
    "gammas = [0.0001, 0.001, 0.01]\n",
    "\n",
    "optimizers = [gradient_descent, stochastic_gradient_descent, stochastic_gradient_mini,\n",
    "             stochastic_gradient_mom, stochastic_average_gradient,]\n",
    "              #dual_coordinate_ascent, weighted_lest_squares]"
   ]
  },
  {
   "cell_type": "code",
   "execution_count": 94,
   "metadata": {
    "collapsed": false
   },
   "outputs": [],
   "source": [
    "kf = cross_validation.KFold(y.shape[0], n_folds=10)\n",
    "\n",
    "def opt_params(kf, optimizer, values):\n",
    "    best_error = 5000 # ok bc/ zero_one_loss limits to number of samples\n",
    "    for combination in product(*values):\n",
    "        error = 0        \n",
    "        for train_index, validation_index in kf:\n",
    "            X_train, X_validation = X[train_index], X[validation_index]\n",
    "            y_train, y_validation = y[train_index], y[validation_index]\n",
    "            beta = np.zeros(X_train[0,:].shape)\n",
    "            b = optimizer(beta, X_train, y_train, *combination)\n",
    "            error += zero_one_loss(predict(b, X_validation), y_validation)\n",
    "        print(*combination, error)\n",
    "        if error < best_error:\n",
    "            best_error = error\n",
    "            best_params = combination\n",
    "    return best_error, best_params\n",
    "        "
   ]
  },
  {
   "cell_type": "markdown",
   "metadata": {},
   "source": [
    "Gradient Descent\n",
    "---"
   ]
  },
  {
   "cell_type": "code",
   "execution_count": 95,
   "metadata": {
    "collapsed": false
   },
   "outputs": [
    {
     "name": "stdout",
     "output_type": "stream",
     "text": [
      "0.001 21\n",
      "0.01 21\n",
      "0.1 21\n"
     ]
    },
    {
     "data": {
      "text/plain": [
       "(21, (0.001,))"
      ]
     },
     "execution_count": 95,
     "metadata": {},
     "output_type": "execute_result"
    }
   ],
   "source": [
    "opt_params(kf, gradient_descent, [taus])"
   ]
  },
  {
   "cell_type": "markdown",
   "metadata": {},
   "source": [
    "SGD\n",
    "---"
   ]
  },
  {
   "cell_type": "code",
   "execution_count": 141,
   "metadata": {
    "collapsed": false
   },
   "outputs": [
    {
     "name": "stdout",
     "output_type": "stream",
     "text": [
      "0.001 0.0001 21\n",
      "0.001 0.001 21\n",
      "0.001 0.01 21\n",
      "0.01 0.0001 21\n",
      "0.01 0.001 21\n",
      "0.01 0.01 21\n",
      "0.1 0.0001 21\n",
      "0.1 0.001 21\n",
      "0.1 0.01 21\n"
     ]
    },
    {
     "name": "stderr",
     "output_type": "stream",
     "text": [
      "/home/tg/anaconda3/lib/python3.5/site-packages/ipykernel/__main__.py:11: RuntimeWarning: divide by zero encountered in remainder\n"
     ]
    },
    {
     "data": {
      "text/plain": [
       "(21, (0.001, 0.0001))"
      ]
     },
     "execution_count": 141,
     "metadata": {},
     "output_type": "execute_result"
    }
   ],
   "source": [
    "opt_params(kf, stochastic_gradient_descent, [taus, gammas])"
   ]
  },
  {
   "cell_type": "markdown",
   "metadata": {},
   "source": [
    "Mini Batch\n",
    "---"
   ]
  },
  {
   "cell_type": "code",
   "execution_count": 113,
   "metadata": {
    "collapsed": false
   },
   "outputs": [
    {
     "data": {
      "text/plain": [
       "(64,)"
      ]
     },
     "execution_count": 113,
     "metadata": {},
     "output_type": "execute_result"
    }
   ],
   "source": []
  },
  {
   "cell_type": "markdown",
   "metadata": {},
   "source": [
    "Momentum\n",
    "---"
   ]
  },
  {
   "cell_type": "markdown",
   "metadata": {},
   "source": [
    "ASG\n",
    "---"
   ]
  },
  {
   "cell_type": "markdown",
   "metadata": {},
   "source": [
    "SAG\n",
    "---"
   ]
  }
 ],
 "metadata": {
  "kernelspec": {
   "display_name": "Python 3",
   "language": "python",
   "name": "python3"
  },
  "language_info": {
   "codemirror_mode": {
    "name": "ipython",
    "version": 3
   },
   "file_extension": ".py",
   "mimetype": "text/x-python",
   "name": "python",
   "nbconvert_exporter": "python",
   "pygments_lexer": "ipython3",
   "version": "3.5.1"
  }
 },
 "nbformat": 4,
 "nbformat_minor": 0
}
