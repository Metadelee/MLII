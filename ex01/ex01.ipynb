{
 "cells": [
  {
   "cell_type": "markdown",
   "metadata": {},
   "source": [
    "#  Loading the dataset "
   ]
  },
  {
   "cell_type": "code",
   "execution_count": 8,
   "metadata": {
    "collapsed": false
   },
   "outputs": [
    {
     "name": "stdout",
     "output_type": "stream",
     "text": [
      "['images', 'target_names', 'data', 'DESCR', 'target']\n"
     ]
    }
   ],
   "source": [
    "from __future__ import print_function, division\n",
    "from sklearn.datasets import load_digits\n",
    "digits = load_digits ()\n",
    "print(list(digits.keys()))\n",
    "data = digits[\"data\"]\n",
    "images = digits[\"images\"]\n",
    "target = digits[\"target\"]\n",
    "target_names = digits[\"target_names\"]\n",
    "import numpy as np\n",
    "from scipy.sparse.linalg import lsqr"
   ]
  },
  {
   "cell_type": "code",
   "execution_count": 2,
   "metadata": {
    "collapsed": false
   },
   "outputs": [
    {
     "data": {
      "text/plain": [
       "(357, 64)"
      ]
     },
     "execution_count": 2,
     "metadata": {},
     "output_type": "execute_result"
    }
   ],
   "source": [
    "# Create feature matrix X and groundtruth y\n",
    "y = target[(target == 3) | (target == 8)]\n",
    "y[y == 3] = 1\n",
    "y[y == 8] = -1\n",
    "images_ = images[(target == 3) | (target == 8)]\n",
    "X = data[(target == 3) | (target == 8)]\n",
    "np.shape(X)"
   ]
  },
  {
   "cell_type": "markdown",
   "metadata": {},
   "source": [
    "# Basic functions"
   ]
  },
  {
   "cell_type": "code",
   "execution_count": 3,
   "metadata": {
    "collapsed": false
   },
   "outputs": [],
   "source": [
    "def sigmoid(Z):\n",
    "    return 1./(1.+np.exp(-Z))\n",
    "\n",
    "def gradient(beta,X,y):\n",
    "    return np.sum((-y[:,np.newaxis]*X) *(1-sigmoid(y[:,np.newaxis]*np.dot(X,beta[:,np.newaxis]))),0)/y.shape\n",
    "\n",
    "def predict(beta,X):\n",
    "    return np.sign(np.dot(X,beta))\n",
    "\n",
    "def zero_one_loss(y_p,y_g):\n",
    "    return np.sum(y_p != y_g) / float(len(y_p))"
   ]
  },
  {
   "cell_type": "markdown",
   "metadata": {},
   "source": [
    "# Optimization Method"
   ]
  },
  {
   "cell_type": "markdown",
   "metadata": {},
   "source": [
    "SGD and its variants use sampling without replacement. It reduces the number of sampling calls by shuffling an index array only once per epoch and simplifies slicing in mini batch versions."
   ]
  },
  {
   "cell_type": "code",
   "execution_count": 44,
   "metadata": {
    "collapsed": false
   },
   "outputs": [],
   "source": [
    "def gradient_descent(beta, X, y, tau, m=10,):\n",
    "    betas = []\n",
    "    for t in range(m):\n",
    "        beta = beta - tau * gradient(beta, X, y)\n",
    "        betas.append(beta)\n",
    "    return beta, np.asarray(betas)\n",
    "\n",
    "def stochastic_gradient_descent(beta, X, y, tau_0, gamma=1, m=150):\n",
    "    np.random.seed(1)\n",
    "    betas = []\n",
    "    tau = tau_0\n",
    "    n = len(y)\n",
    "    indexx = np.arange(n)\n",
    "    for t in range(m):\n",
    "        i = np.mod(t, n) # np modulus returns 0 if divisor = 0\n",
    "        if i == 0:\n",
    "            np.random.shuffle(indexx)\n",
    "        beta -= tau*gradient(beta, X[indexx[i]], y[indexx[i]:indexx[i]+1])\n",
    "        betas.append(beta)\n",
    "        tau = tau_0 / (1 + t*gamma)\n",
    "    return beta, np.asarray(betas)\n",
    "\n",
    "\n",
    "def stochastic_gradient_mini(beta, X, y, tau_0, gamma=1, m=150, b=30):\n",
    "    betas = []\n",
    "    np.random.seed(1)\n",
    "    tau = tau_0\n",
    "    n = len(y)\n",
    "    indexx = np.arange(n)\n",
    "    np.random.shuffle(indexx)\n",
    "    full, rest = np.mod(n, b)\n",
    "    for t in range(m):\n",
    "        if np.mod(t, full+1) == 0:\n",
    "            # every last minibatch per epoch gets filled with random samples\n",
    "            i = np.append(indexx[b*t,:], np.random.randint(n, size=rest))\n",
    "            np.shuffle(indexx)\n",
    "        else:\n",
    "            i = indexx[b*t,b*(t+1)]\n",
    "        beta -= tau*gradient(beta,X[i],y[i])\n",
    "        betas.append(beta)\n",
    "        tau = tau_0/(1 + t*gamma)\n",
    "    return beta, np.asarray(betas)\n",
    "                     \n",
    "                          \n",
    "def stochastic_gradient_mom(beta, X, y, tau_0, mu=0.3,gamma=1, m=150):\n",
    "    betas = []\n",
    "    np.random.seed(1)\n",
    "    tau = tau_0\n",
    "    n = len(y)\n",
    "    g = 0\n",
    "    indexx = np.arange(n)\n",
    "    for t in range(m):\n",
    "        i = np.mod(t, n) # np modulus returns 0 if divisor = 0\n",
    "        if i == 0:\n",
    "            np.random.shuffle(indexx)\n",
    "        g = mu * g + (1 - mu) * gradient(beta, X[indexx[i]], y[indexx[i]:indexx[i]+1])\n",
    "        beta -= tau*g\n",
    "        betas.append(beta)\n",
    "        tau = tau_0 / (1 + t*gamma)\n",
    "    return beta, np.asarray(betas)                          \n",
    "                          \n",
    "def average_stochastic_gradient(beta, X, y, tau_0, mu, gamma=1, m=150):\n",
    "    betas = []\n",
    "    np.random.seed(1)\n",
    "    tau = tau_0\n",
    "    n = len(y)\n",
    "    g = 0\n",
    "    indexx = np.arange(n)\n",
    "    for t in range(m):\n",
    "        i = np.mod(t, n)\n",
    "        if i == 0:\n",
    "            np.random.shuffle(indexx)\n",
    "        g -= tau * gradient(beta, X[indexx[i]], y[indexx[i]:indexx[i]+1])\n",
    "        beta = (1 - mu) * beta + mu * g\n",
    "        betas.append(beta)\n",
    "        tau = tau_0 / np.power(1 + t*gamma,3/4)\n",
    "    return beta, np.asarray(betas)\n",
    "    \n",
    "def stochastic_average_gradient(beta, X, y, tau_0, m=150, gamma=1):  # Roux et al. [2012]\n",
    "    np.random.seed(1)\n",
    "    betas = []\n",
    "    tau = tau_0\n",
    "    n = len(y)\n",
    "    indexx = np.arange(n)\n",
    "    gradients = np.zeros((n, beta.size))\n",
    "    for t in range(n):\n",
    "        i = np.mod(n, t)\n",
    "        if i == 0:\n",
    "            np.random.shuffle(indexx)\n",
    "        gradients[indexx[i]] = gradient(\n",
    "                        beta, X[indexx[i]], y[indexx[i]:indexx[i]+1])\n",
    "        beta -= tau*gradients.mean(axis=0)\n",
    "        betas.append(beta)\n",
    "        tau = tau_0 / (1 + t*gamma)\n",
    "    return beta, np.asarray(betas)\n",
    "        \n",
    "        \n",
    "def dual_coordinate_ascent(beta,X,y,tau_0=0.1,gamma=0.01,m = 150):\n",
    "    np.random.seed(1)\n",
    "    betas = []\n",
    "    n = len(y)\n",
    "    a = np.random.rand(n)\n",
    "    a_ = np.copy(a)\n",
    "    beta =np.sum(a[:,np.newaxis]*y[:,np.newaxis]*X,0)\n",
    "    indexx = np.arange(n)\n",
    "    Z =np.dot(X,X.transpose())\n",
    "    for t in range(m):   \n",
    "        i = np.mod(t,n)\n",
    "        a_[indexx[i]] = np.clip(a[indexx[i]]-y[indexx[i]:indexx[i]+1]*np.dot(X[indexx[i]],beta)\n",
    "                                / Z[indexx[i],indexx[i]], 0,1) # add formula \n",
    "        beta = beta+(a_[indexx[i]]-a[indexx[i]])*y[indexx[i]:indexx[i]+1]*X[indexx[i],:]\n",
    "        betas.append(beta)\n",
    "        a[indexx[i]] = a_[indexx[i]]\n",
    "    return beta, np.asarray(betas)\n",
    "\n",
    "def weighted_least_squares(beta,X,y,m=10):\n",
    "    betas = []\n",
    "    for t in range(0, m):\n",
    "        z = np.dot(X,beta[:,np.newaxis])\n",
    "        V = np.zeros([len(z), len(z)])\n",
    "        y_tilde = np.zeros([len(z)])\n",
    "        for i_prime in range(len(z)):\n",
    "            V[i_prime, i_prime] = np.sqrt(1. / len(z) * sigmoid(z[i_prime]) * (1-sigmoid(z[i_prime])))\n",
    "            y_tilde[i_prime] = y[i_prime] / sigmoid(y[i_prime]*z[i_prime])\n",
    "        z_tilde = np.dot((z + y_tilde[:, np.newaxis]).T, V)\n",
    "        X_tilde = np.dot(V,X)\n",
    "        \n",
    "        # use scipy lsqr to solve argmin_{\\beta}(z_tilde-X_tilde*\\beta)^2\n",
    "        ls_obj = lsqr(X_tilde, z_tilde)\n",
    "        beta = np.reshape(ls_obj[0], beta.shape)\n",
    "        betas.append(beta)\n",
    "    return beta, np.asarray(betas)"
   ]
  },
  {
   "cell_type": "markdown",
   "metadata": {
    "collapsed": false
   },
   "source": [
    "# 2.3 Comparison\n",
    "Learning Rate\n",
    "--"
   ]
  },
  {
   "cell_type": "code",
   "execution_count": 15,
   "metadata": {
    "collapsed": false
   },
   "outputs": [],
   "source": [
    "from sklearn import cross_validation\n",
    "from itertools import product\n",
    "\n",
    "X, X_test, y, y_test = cross_validation.train_test_split(X, y,\n",
    "                                            random_state=0, test_size=0.3)\n",
    "taus = [0.001, 0.01, 0.1]\n",
    "mus = [0.1, 0.2, 0.5]\n",
    "gammas = [0.0001, 0.001, 0.01]\n",
    "\n",
    "optimizers = [gradient_descent, stochastic_gradient_descent, stochastic_gradient_mini,\n",
    "             stochastic_gradient_mom, stochastic_average_gradient,]\n",
    "              #dual_coordinate_ascent, weighted_least_squares]"
   ]
  },
  {
   "cell_type": "code",
   "execution_count": 49,
   "metadata": {
    "collapsed": false
   },
   "outputs": [],
   "source": [
    "kf = cross_validation.KFold(y.shape[0], n_folds=10)\n",
    "\n",
    "def opt_params(kf, optimizer, values):\n",
    "    best_error = 5000 # ok bc/ zero_one_loss limits to number of samples\n",
    "    for combination in product(*values):\n",
    "        error = 0        \n",
    "        for train_index, validation_index in kf:\n",
    "            X_train, X_validation = X[train_index], X[validation_index]\n",
    "            y_train, y_validation = y[train_index], y[validation_index]\n",
    "            beta = np.zeros(X_train[0,:].shape)\n",
    "            b, history = optimizer(beta, X_train, y_train, *combination)\n",
    "            error += zero_one_loss(predict(b, X_validation), y_validation) / len(kf)\n",
    "#         print((combination, error))\n",
    "        if error < best_error:\n",
    "            best_error = error\n",
    "            best_params = combination\n",
    "    return best_error, best_params"
   ]
  },
  {
   "cell_type": "markdown",
   "metadata": {},
   "source": [
    "## Gradient Descent"
   ]
  },
  {
   "cell_type": "code",
   "execution_count": 50,
   "metadata": {
    "collapsed": false
   },
   "outputs": [
    {
     "name": "stdout",
     "output_type": "stream",
     "text": [
      "(0.001,)\n"
     ]
    }
   ],
   "source": [
    "gd_error, gd_params = opt_params(kf, gradient_descent, [taus])\n",
    "print(gd_params)\n"
   ]
  },
  {
   "cell_type": "markdown",
   "metadata": {},
   "source": [
    "## SGD"
   ]
  },
  {
   "cell_type": "code",
   "execution_count": 51,
   "metadata": {
    "collapsed": false
   },
   "outputs": [
    {
     "name": "stdout",
     "output_type": "stream",
     "text": [
      "(0.01, 0.001)\n"
     ]
    }
   ],
   "source": [
    "sgd_error, sgd_params = opt_params(kf, stochastic_gradient_descent, [taus, gammas])\n",
    "print(sgd_params)\n"
   ]
  },
  {
   "cell_type": "markdown",
   "metadata": {},
   "source": [
    "SGD Minibatch\n",
    "---"
   ]
  },
  {
   "cell_type": "code",
   "execution_count": 25,
   "metadata": {
    "collapsed": true
   },
   "outputs": [
    {
     "ename": "TypeError",
     "evalue": "'numpy.int64' object is not iterable",
     "output_type": "error",
     "traceback": [
      "\u001b[1;31m---------------------------------------------------------------------------\u001b[0m",
      "\u001b[1;31mTypeError\u001b[0m                                 Traceback (most recent call last)",
      "\u001b[1;32m<ipython-input-25-dad6c028d32d>\u001b[0m in \u001b[0;36m<module>\u001b[1;34m()\u001b[0m\n\u001b[1;32m----> 1\u001b[1;33m \u001b[0mmini_error\u001b[0m\u001b[1;33m,\u001b[0m \u001b[0mmini_params\u001b[0m \u001b[1;33m=\u001b[0m \u001b[0mopt_params\u001b[0m\u001b[1;33m(\u001b[0m\u001b[0mkf\u001b[0m\u001b[1;33m,\u001b[0m \u001b[0mstochastic_gradient_mini\u001b[0m\u001b[1;33m,\u001b[0m \u001b[1;33m[\u001b[0m\u001b[0mtaus\u001b[0m\u001b[1;33m,\u001b[0m \u001b[0mgammas\u001b[0m\u001b[1;33m]\u001b[0m\u001b[1;33m)\u001b[0m\u001b[1;33m\u001b[0m\u001b[0m\n\u001b[0m",
      "\u001b[1;32m<ipython-input-18-4b2a27958e6b>\u001b[0m in \u001b[0;36mopt_params\u001b[1;34m(kf, optimizer, values)\u001b[0m\n\u001b[0;32m      9\u001b[0m             \u001b[0my_train\u001b[0m\u001b[1;33m,\u001b[0m \u001b[0my_validation\u001b[0m \u001b[1;33m=\u001b[0m \u001b[0my\u001b[0m\u001b[1;33m[\u001b[0m\u001b[0mtrain_index\u001b[0m\u001b[1;33m]\u001b[0m\u001b[1;33m,\u001b[0m \u001b[0my\u001b[0m\u001b[1;33m[\u001b[0m\u001b[0mvalidation_index\u001b[0m\u001b[1;33m]\u001b[0m\u001b[1;33m\u001b[0m\u001b[0m\n\u001b[0;32m     10\u001b[0m             \u001b[0mbeta\u001b[0m \u001b[1;33m=\u001b[0m \u001b[0mnp\u001b[0m\u001b[1;33m.\u001b[0m\u001b[0mzeros\u001b[0m\u001b[1;33m(\u001b[0m\u001b[0mX_train\u001b[0m\u001b[1;33m[\u001b[0m\u001b[1;36m0\u001b[0m\u001b[1;33m,\u001b[0m\u001b[1;33m:\u001b[0m\u001b[1;33m]\u001b[0m\u001b[1;33m.\u001b[0m\u001b[0mshape\u001b[0m\u001b[1;33m)\u001b[0m\u001b[1;33m\u001b[0m\u001b[0m\n\u001b[1;32m---> 11\u001b[1;33m             \u001b[0mb\u001b[0m\u001b[1;33m,\u001b[0m \u001b[0mhistory\u001b[0m \u001b[1;33m=\u001b[0m \u001b[0moptimizer\u001b[0m\u001b[1;33m(\u001b[0m\u001b[0mbeta\u001b[0m\u001b[1;33m,\u001b[0m \u001b[0mX_train\u001b[0m\u001b[1;33m,\u001b[0m \u001b[0my_train\u001b[0m\u001b[1;33m,\u001b[0m \u001b[1;33m*\u001b[0m\u001b[0mcombination\u001b[0m\u001b[1;33m)\u001b[0m\u001b[1;33m\u001b[0m\u001b[0m\n\u001b[0m\u001b[0;32m     12\u001b[0m             \u001b[0merror\u001b[0m \u001b[1;33m+=\u001b[0m \u001b[0mzero_one_loss\u001b[0m\u001b[1;33m(\u001b[0m\u001b[0mpredict\u001b[0m\u001b[1;33m(\u001b[0m\u001b[0mb\u001b[0m\u001b[1;33m,\u001b[0m \u001b[0mX_validation\u001b[0m\u001b[1;33m)\u001b[0m\u001b[1;33m,\u001b[0m \u001b[0my_validation\u001b[0m\u001b[1;33m)\u001b[0m \u001b[1;33m/\u001b[0m \u001b[0mlen\u001b[0m\u001b[1;33m(\u001b[0m\u001b[0mkf\u001b[0m\u001b[1;33m)\u001b[0m\u001b[1;33m\u001b[0m\u001b[0m\n\u001b[0;32m     13\u001b[0m         \u001b[0mprint\u001b[0m\u001b[1;33m(\u001b[0m\u001b[1;33m(\u001b[0m\u001b[0mcombination\u001b[0m\u001b[1;33m,\u001b[0m \u001b[0merror\u001b[0m\u001b[1;33m)\u001b[0m\u001b[1;33m)\u001b[0m\u001b[1;33m\u001b[0m\u001b[0m\n",
      "\u001b[1;32m<ipython-input-24-ce33b2f86161>\u001b[0m in \u001b[0;36mstochastic_gradient_mini\u001b[1;34m(beta, X, y, tau_0, gamma, m, b)\u001b[0m\n\u001b[0;32m     29\u001b[0m     \u001b[0mindexx\u001b[0m \u001b[1;33m=\u001b[0m \u001b[0mnp\u001b[0m\u001b[1;33m.\u001b[0m\u001b[0marange\u001b[0m\u001b[1;33m(\u001b[0m\u001b[0mn\u001b[0m\u001b[1;33m)\u001b[0m\u001b[1;33m\u001b[0m\u001b[0m\n\u001b[0;32m     30\u001b[0m     \u001b[0mnp\u001b[0m\u001b[1;33m.\u001b[0m\u001b[0mrandom\u001b[0m\u001b[1;33m.\u001b[0m\u001b[0mshuffle\u001b[0m\u001b[1;33m(\u001b[0m\u001b[0mindexx\u001b[0m\u001b[1;33m)\u001b[0m\u001b[1;33m\u001b[0m\u001b[0m\n\u001b[1;32m---> 31\u001b[1;33m     \u001b[0mfull\u001b[0m\u001b[1;33m,\u001b[0m \u001b[0mrest\u001b[0m \u001b[1;33m=\u001b[0m \u001b[0mnp\u001b[0m\u001b[1;33m.\u001b[0m\u001b[0mmod\u001b[0m\u001b[1;33m(\u001b[0m\u001b[0mn\u001b[0m\u001b[1;33m,\u001b[0m \u001b[0mb\u001b[0m\u001b[1;33m)\u001b[0m\u001b[1;33m\u001b[0m\u001b[0m\n\u001b[0m\u001b[0;32m     32\u001b[0m     \u001b[1;32mfor\u001b[0m \u001b[0mt\u001b[0m \u001b[1;32min\u001b[0m \u001b[0mrange\u001b[0m\u001b[1;33m(\u001b[0m\u001b[0mm\u001b[0m\u001b[1;33m)\u001b[0m\u001b[1;33m:\u001b[0m\u001b[1;33m\u001b[0m\u001b[0m\n\u001b[0;32m     33\u001b[0m         \u001b[1;32mif\u001b[0m \u001b[0mnp\u001b[0m\u001b[1;33m.\u001b[0m\u001b[0mmod\u001b[0m\u001b[1;33m(\u001b[0m\u001b[0mt\u001b[0m\u001b[1;33m,\u001b[0m \u001b[0mfull\u001b[0m\u001b[1;33m+\u001b[0m\u001b[1;36m1\u001b[0m\u001b[1;33m)\u001b[0m \u001b[1;33m==\u001b[0m \u001b[1;36m0\u001b[0m\u001b[1;33m:\u001b[0m\u001b[1;33m\u001b[0m\u001b[0m\n",
      "\u001b[1;31mTypeError\u001b[0m: 'numpy.int64' object is not iterable"
     ]
    }
   ],
   "source": [
    "# mini_error, mini_params = opt_params(kf, stochastic_gradient_mini, [taus, gammas])"
   ]
  },
  {
   "cell_type": "markdown",
   "metadata": {},
   "source": [
    "SGD Momentum\n",
    "---"
   ]
  },
  {
   "cell_type": "code",
   "execution_count": 52,
   "metadata": {
    "collapsed": false
   },
   "outputs": [
    {
     "name": "stdout",
     "output_type": "stream",
     "text": [
      "(0.01, 0.1, 0.001)\n"
     ]
    }
   ],
   "source": [
    "mom_error, mom_params = opt_params(kf, stochastic_gradient_mom, [taus, mus, gammas])\n",
    "print(mom_params)"
   ]
  },
  {
   "cell_type": "markdown",
   "metadata": {},
   "source": [
    "Average Stochastic Gradient\n",
    "---"
   ]
  },
  {
   "cell_type": "code",
   "execution_count": 53,
   "metadata": {
    "collapsed": false
   },
   "outputs": [
    {
     "name": "stdout",
     "output_type": "stream",
     "text": [
      "(0.01, 0.1, 0.01)\n"
     ]
    }
   ],
   "source": [
    "asg_error, asg_params = opt_params(kf, average_stochastic_gradient, [taus, mus, gammas])\n",
    "print(asg_params)"
   ]
  },
  {
   "cell_type": "markdown",
   "metadata": {},
   "source": [
    "Stochastic Average Gradient\n",
    "---"
   ]
  },
  {
   "cell_type": "code",
   "execution_count": 54,
   "metadata": {
    "collapsed": false
   },
   "outputs": [
    {
     "name": "stdout",
     "output_type": "stream",
     "text": [
      "(0.1, 0.0001)\n"
     ]
    },
    {
     "name": "stderr",
     "output_type": "stream",
     "text": [
      "/home/tg/anaconda3/lib/python3.5/site-packages/ipykernel/__main__.py:87: RuntimeWarning: divide by zero encountered in remainder\n"
     ]
    }
   ],
   "source": [
    "sag_error, sag_params = opt_params(kf, stochastic_average_gradient, [taus, gammas])\n",
    "print(sag_params)"
   ]
  },
  {
   "cell_type": "markdown",
   "metadata": {},
   "source": [
    "## Dual Coordinate Ascent"
   ]
  },
  {
   "cell_type": "code",
   "execution_count": 55,
   "metadata": {
    "collapsed": false
   },
   "outputs": [
    {
     "name": "stdout",
     "output_type": "stream",
     "text": [
      "(0.001, 0.0001)\n"
     ]
    }
   ],
   "source": [
    "dca_error, dca_params = opt_params(kf, dual_coordinate_ascent, [taus, gammas])\n",
    "print(dca_params)"
   ]
  },
  {
   "cell_type": "markdown",
   "metadata": {
    "collapsed": true
   },
   "source": [
    "## WLSQR"
   ]
  },
  {
   "cell_type": "code",
   "execution_count": 56,
   "metadata": {
    "collapsed": false
   },
   "outputs": [
    {
     "name": "stdout",
     "output_type": "stream",
     "text": [
      "()\n"
     ]
    }
   ],
   "source": [
    "wlsq_error, wlsq_params = opt_params(kf, weighted_least_squares, [])\n",
    "print(wlsq_params)"
   ]
  },
  {
   "cell_type": "markdown",
   "metadata": {
    "collapsed": true
   },
   "source": [
    "Speed\n",
    "--"
   ]
  },
  {
   "cell_type": "code",
   "execution_count": null,
   "metadata": {
    "collapsed": true
   },
   "outputs": [],
   "source": []
  }
 ],
 "metadata": {
  "kernelspec": {
   "display_name": "Python 3",
   "language": "python",
   "name": "python3"
  },
  "language_info": {
   "codemirror_mode": {
    "name": "ipython",
    "version": 3
   },
   "file_extension": ".py",
   "mimetype": "text/x-python",
   "name": "python",
   "nbconvert_exporter": "python",
   "pygments_lexer": "ipython3",
   "version": "3.5.1"
  }
 },
 "nbformat": 4,
 "nbformat_minor": 0
}
