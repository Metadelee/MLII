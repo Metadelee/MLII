{
 "cells": [
  {
   "cell_type": "markdown",
   "metadata": {},
   "source": [
    "## Loading the dataset "
   ]
  },
  {
   "cell_type": "code",
   "execution_count": 1,
   "metadata": {
    "collapsed": false
   },
   "outputs": [
    {
     "name": "stdout",
     "output_type": "stream",
     "text": [
      "['images', 'data', 'target_names', 'DESCR', 'target']\n"
     ]
    }
   ],
   "source": [
    "from sklearn.datasets import load_digits\n",
    "digits = load_digits ()\n",
    "print digits.keys()\n",
    "data = digits[\"data\"]\n",
    "images = digits[\"images\"]\n",
    "target = digits[\"target\"]\n",
    "target_names = digits[\"target_names\"]\n",
    "import numpy as np"
   ]
  },
  {
   "cell_type": "code",
   "execution_count": 2,
   "metadata": {
    "collapsed": false
   },
   "outputs": [
    {
     "data": {
      "text/plain": [
       "(357, 64)"
      ]
     },
     "execution_count": 2,
     "metadata": {},
     "output_type": "execute_result"
    }
   ],
   "source": [
    "# Create feature matrix X and groundtruth y\n",
    "y = target[(target == 3) | (target == 8)]\n",
    "y[y == 3] = 1\n",
    "y[y == 8] = -1\n",
    "images_ = images[(target == 3) | (target == 8)]\n",
    "X = data[(target == 3) | (target == 8)]\n",
    "np.shape(X)"
   ]
  },
  {
   "cell_type": "markdown",
   "metadata": {},
   "source": [
    "## Basic functions"
   ]
  },
  {
   "cell_type": "code",
   "execution_count": 3,
   "metadata": {
    "collapsed": false
   },
   "outputs": [],
   "source": [
    "def sigmoid(Z):\n",
    "    return 1./(1.+np.exp(-Z))\n",
    "\n",
    "def gradient(beta,X,y):\n",
    "    return (-y*X.transpose())*(1-sigmoid(y*(X*beta).transpose()))/len(y)\n",
    "\n",
    "def predict(beta,X):\n",
    "    return np.sign(X*beta)\n",
    "\n",
    "def zero_one_loss(y_p,y_g):\n",
    "        return np.sum(y_p != y_g)"
   ]
  },
  {
   "cell_type": "code",
   "execution_count": 5,
   "metadata": {
    "collapsed": false
   },
   "outputs": [
    {
     "data": {
      "text/plain": [
       "(64, 1)"
      ]
     },
     "execution_count": 5,
     "metadata": {},
     "output_type": "execute_result"
    }
   ],
   "source": [
    "beta = np.ones([64,1])\n",
    "np.shape(beta)\n",
    "X "
   ]
  },
  {
   "cell_type": "markdown",
   "metadata": {},
   "source": [
    "## Optimization Method"
   ]
  },
  {
   "cell_type": "code",
   "execution_count": 104,
   "metadata": {
    "collapsed": true
   },
   "outputs": [],
   "source": [
    "def gradient_descent(beta,X,y,tau,tau_0,gamma,mu):\n",
    "    for t in range(0,m):\n",
    "        beta = beta-tau*gradient(beta,X,y)\n",
    "    return beta\n",
    "\n",
    "def stochastic_gradient_descent(beta,X,y,tau,tau_0,gamma,mu):\n",
    "    tau = tau_0\n",
    "    # batchsize\n",
    "    b = 1\n",
    "    for t in range(0,m):\n",
    "        i = np.random.randint(0,len(y)-1,size=b)\n",
    "        beta = beta-tau*gradient(beta,X[i,:],y[i])\n",
    "        tau = tau_0/(1+t*gamma)\n",
    "    return beta\n",
    "\n",
    "\n",
    "def stochastic_gradient_mini(beta,X,y,tau,tau_0,gamma,mu):\n",
    "    tau = tau_0\n",
    "    # batchsize\n",
    "    b = 30\n",
    "    for t in range(0,m):\n",
    "        i = np.random.randint(0,len(y)-1,size=b)\n",
    "        beta = beta-tau*gradient(beta,X[i,:],y[i])\n",
    "        tau = tau_0/(1+gamma*t)\n",
    "    return beta\n",
    "\n",
    "def stochastic_gradient_mom(beta,X,y,tau,tau_0,gamma,mu):\n",
    "    tau = tau_0\n",
    "    g_ = 0\n",
    "    # batchsize\n",
    "    b = 1\n",
    "    for t in range(0,m):\n",
    "        i = np.random.randint(0,len(y)-1,size=b)\n",
    "        g = mu*g_+(1-mu)*gradient(beta,X[i,:],y[i]\n",
    "        beta = beta-tau*g_\n",
    "        tau = tau_0/(1+gamma*t)\n",
    "    return beta\n",
    "\n",
    "def average_stochastic_gradient(beta,X,y,tau,tau_0,mu):\n",
    "    d=0\n",
    "    for t in range(0,m):\n",
    "\n",
    "        tau = tau_0/np.power(1+gamma*t,3./4.)\n",
    "        return beta\n",
    "\n",
    "def dual_coordinate_ascent(beta,X,y,tau,tau_0,gamma,mu):\n",
    "    a = np.random.rand(len(y))\n",
    "    beta =a*y*X.transpose()\n",
    "    b=1\n",
    "    for t in range(0,m):   \n",
    "        i = np.random.randint(0,len(y)-1,size=b)\n",
    "        a_(i) = np.clip(a(i)-, 0,1) # add formula \n",
    "        beta = beta+(a_(i)-a(i))*y[i_]*X[i,:].transpose()\n",
    "        tau = tau/(1+gamma*t)\n",
    "    return beta\n",
    "    \n",
    "def weighted_lest_squares(beta,X,y,tau,tau_0,gamma,mu):\n",
    "    \n",
    "    return beta\n",
    "    "
   ]
  },
  {
   "cell_type": "code",
   "execution_count": null,
   "metadata": {
    "collapsed": true
   },
   "outputs": [],
   "source": []
  }
 ],
 "metadata": {
  "kernelspec": {
   "display_name": "Python 2",
   "language": "python",
   "name": "python2"
  },
  "language_info": {
   "codemirror_mode": {
    "name": "ipython",
    "version": 2
   },
   "file_extension": ".py",
   "mimetype": "text/x-python",
   "name": "python",
   "nbconvert_exporter": "python",
   "pygments_lexer": "ipython2",
   "version": "2.7.10"
  }
 },
 "nbformat": 4,
 "nbformat_minor": 0
}
