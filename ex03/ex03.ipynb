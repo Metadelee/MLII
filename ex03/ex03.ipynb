{
 "cells": [
  {
   "cell_type": "markdown",
   "metadata": {},
   "source": [
    "1 Introduction\n",
    "---"
   ]
  },
  {
   "cell_type": "code",
   "execution_count": 18,
   "metadata": {
    "collapsed": true
   },
   "outputs": [
    {
     "name": "stdout",
     "output_type": "stream",
     "text": [
      "0.9416\r\n",
      "0.9636\r\n",
      "0.9707\r\n",
      "0.975\r\n",
      "0.9771\r\n",
      "0.9784\r\n",
      "0.9757\r\n",
      "0.9808\r\n",
      "0.9815\r\n",
      "0.9788\r\n",
      "0.982\r\n",
      "0.9808\r\n",
      "0.9775\r\n",
      "0.982\r\n",
      "0.9809\r\n",
      "0.982\r\n",
      "0.9816\r\n",
      "0.984\r\n",
      "0.9836\r\n",
      "0.9847\r\n",
      "0.9848\r\n",
      "0.9849\r\n",
      "0.9849\r\n",
      "0.9847\r\n",
      "0.9847\r\n",
      "0.9848\r\n",
      "0.9848\r\n",
      "0.9849\r\n",
      "0.9848\r\n",
      "0.9847\r\n",
      "0.9847\r\n",
      "0.9847\r\n",
      "0.9847\r\n",
      "0.9848\r\n",
      "0.9848\r\n",
      "0.9848\r\n",
      "0.9847\r\n",
      "0.9846\r\n",
      "0.9846\r\n",
      "0.9846\r\n",
      "0.9845\r\n",
      "0.9845\r\n",
      "0.9845\r\n",
      "0.9845\r\n",
      "0.9845\r\n",
      "0.9845\r\n",
      "0.9845\r\n",
      "0.9845\r\n",
      "0.9845\r\n",
      "0.9846\r\n",
      "0.9846\r\n",
      "0.9846\r\n",
      "0.9846\r\n",
      "0.9846\r\n",
      "0.9845\r\n",
      "0.9845\r\n",
      "0.9845\r\n",
      "0.9845\r\n",
      "0.9845\r\n",
      "0.9845\r\n",
      "0.9845\r\n",
      "0.9845\r\n",
      "0.9845\r\n",
      "0.9845\r\n",
      "0.9846\r\n",
      "0.9846\r\n",
      "0.9846\r\n",
      "0.9846\r\n",
      "0.9846\r\n",
      "0.9846\r\n",
      "0.9846\r\n",
      "0.9846\r\n",
      "0.9845\r\n",
      "0.9845\r\n",
      "0.9845\r\n",
      "0.9845\r\n",
      "0.9845\r\n",
      "0.9845\r\n",
      "0.9845\r\n",
      "0.9845\r\n",
      "0.9845\r\n",
      "0.9845\r\n",
      "0.9845\r\n",
      "0.9845\r\n",
      "0.9845\r\n",
      "0.9845\r\n",
      "0.9845\r\n",
      "0.9845\r\n",
      "0.9845\r\n",
      "0.9845\r\n",
      "0.9845\r\n",
      "0.9845\r\n",
      "0.9845\r\n",
      "0.9845\r\n",
      "0.9845\r\n",
      "0.9845\r\n",
      "0.9845\r\n",
      "0.9845\r\n",
      "0.9845\r\n",
      "0.9845\r\n",
      "\r\n",
      "real    3m33.077s\r\n",
      "user    2m19.972s\r\n",
      "sys     1m9.975s\r\n"
     ]
    }
   ],
   "source": [
    "%cat intro_gpu.log"
   ]
  },
  {
   "cell_type": "markdown",
   "metadata": {},
   "source": [
    "2 Dropout\n",
    "--"
   ]
  },
  {
   "cell_type": "markdown",
   "metadata": {},
   "source": [
    "How does dropout work?\n",
    "Each iteration a new subset of random activations is set to 0.\n",
    "(Their gradient in the backwards pass is 0 as well)\n",
    "This mainly breaks prevetns the codependence of features and forces the model to be more robust.\n",
    "Often it can work as an effective form of regularization.\n",
    "\n",
    "Why two models?\n",
    "Dropout is used at training time, but not at prediction time.\n",
    "Our implementation uses two different models for each task."
   ]
  },
  {
   "cell_type": "code",
   "execution_count": 2,
   "metadata": {
    "collapsed": true
   },
   "outputs": [
    {
     "name": "stdout",
     "output_type": "stream",
     "text": [
      "Using gpu device 0: GeForce GTX 580 (CNMeM is disabled, CuDNN not available)\r\n",
      "0.9367\r\n",
      "0.9642\r\n",
      "0.9733\r\n",
      "0.9759\r\n",
      "0.9762\r\n",
      "0.9767\r\n",
      "0.9785\r\n",
      "0.9792\r\n",
      "0.9803\r\n",
      "0.9815\r\n",
      "0.9838\r\n",
      "0.9831\r\n",
      "0.9829\r\n",
      "0.9838\r\n",
      "0.9825\r\n",
      "0.9822\r\n",
      "0.9833\r\n",
      "0.9836\r\n",
      "0.9834\r\n",
      "0.9839\r\n",
      "0.9846\r\n",
      "0.9848\r\n",
      "0.9835\r\n",
      "0.9834\r\n",
      "0.9841\r\n",
      "0.9851\r\n",
      "0.9854\r\n",
      "0.9847\r\n",
      "0.9848\r\n",
      "0.9842\r\n",
      "0.9853\r\n",
      "0.9845\r\n",
      "0.9842\r\n",
      "0.9855\r\n",
      "0.9846\r\n",
      "0.9859\r\n",
      "0.9845\r\n",
      "0.985\r\n",
      "0.985\r\n",
      "0.9849\r\n",
      "0.9855\r\n",
      "0.9858\r\n",
      "0.9858\r\n",
      "0.9857\r\n",
      "0.9858\r\n",
      "0.9852\r\n",
      "0.9859\r\n",
      "0.9856\r\n",
      "0.9858\r\n",
      "0.9859\r\n",
      "0.986\r\n",
      "0.9867\r\n",
      "0.9862\r\n",
      "0.986\r\n",
      "0.9862\r\n",
      "0.9866\r\n",
      "0.9859\r\n",
      "0.986\r\n",
      "0.9861\r\n",
      "0.9857\r\n",
      "0.9853\r\n",
      "0.9872\r\n",
      "0.9871\r\n",
      "0.9875\r\n",
      "0.9872\r\n",
      "0.9859\r\n",
      "0.9873\r\n",
      "0.9876\r\n",
      "0.9867\r\n",
      "0.9868\r\n",
      "0.9876\r\n",
      "0.9871\r\n",
      "0.987\r\n",
      "0.9865\r\n",
      "0.9873\r\n",
      "0.987\r\n",
      "0.9866\r\n",
      "0.9863\r\n",
      "0.9867\r\n",
      "0.9863\r\n",
      "0.9864\r\n",
      "0.9864\r\n",
      "0.987\r\n",
      "0.9867\r\n",
      "0.9876\r\n",
      "0.9869\r\n",
      "0.9864\r\n",
      "0.9881\r\n",
      "0.9874\r\n",
      "0.9872\r\n",
      "0.9871\r\n",
      "0.9871\r\n",
      "0.9862\r\n",
      "0.9869\r\n",
      "0.9861\r\n",
      "0.9877\r\n",
      "0.9879\r\n",
      "0.9872\r\n",
      "0.9875\r\n",
      "0.9874\r\n",
      "\r\n",
      "real\t12m22.859s\r\n",
      "user\t23m30.126s\r\n",
      "sys\t0m45.546s\r\n"
     ]
    }
   ],
   "source": [
    "%cat ./dropout.log"
   ]
  },
  {
   "cell_type": "markdown",
   "metadata": {},
   "source": [
    "3 PReLU\n",
    "--\n",
    "Because we had problems with theano's broadcasting behaviour, we implemented the channel-shared prelu variant, also described in 'Delving Deep into Rectifiers'."
   ]
  },
  {
   "cell_type": "code",
   "execution_count": 4,
   "metadata": {
    "collapsed": false,
    "scrolled": true
   },
   "outputs": [
    {
     "name": "stdout",
     "output_type": "stream",
     "text": [
      "correct: 0.9371, a: 0.11, a2: 0.94\r\n",
      "correct: 0.9634, a: -0.03, a2: 0.96\r\n",
      "correct: 0.9724, a: -0.08, a2: 0.97\r\n",
      "correct: 0.9726, a: -0.11, a2: 0.97\r\n",
      "correct: 0.9749, a: -0.13, a2: 0.97\r\n",
      "correct: 0.9771, a: -0.15, a2: 0.98\r\n",
      "correct: 0.9793, a: -0.16, a2: 0.98\r\n",
      "correct: 0.9772, a: -0.18, a2: 0.98\r\n",
      "correct: 0.9794, a: -0.18, a2: 0.98\r\n",
      "correct: 0.9799, a: -0.19, a2: 0.98\r\n",
      "correct: 0.9728, a: -0.19, a2: 0.97\r\n",
      "correct: 0.9783, a: -0.18, a2: 0.98\r\n",
      "correct: 0.9796, a: -0.18, a2: 0.98\r\n",
      "correct: 0.9818, a: -0.18, a2: 0.98\r\n",
      "correct: 0.9808, a: -0.17, a2: 0.98\r\n",
      "correct: 0.9815, a: -0.18, a2: 0.98\r\n",
      "correct: 0.9813, a: -0.18, a2: 0.98\r\n",
      "correct: 0.9827, a: -0.18, a2: 0.98\r\n",
      "correct: 0.9819, a: -0.18, a2: 0.98\r\n",
      "correct: 0.9799, a: -0.18, a2: 0.98\r\n",
      "correct: 0.9812, a: -0.18, a2: 0.98\r\n",
      "correct: 0.9817, a: -0.17, a2: 0.98\r\n",
      "correct: 0.9833, a: -0.18, a2: 0.98\r\n",
      "correct: 0.9842, a: -0.17, a2: 0.98\r\n",
      "correct: 0.9844, a: -0.17, a2: 0.98\r\n",
      "correct: 0.9829, a: -0.17, a2: 0.98\r\n",
      "correct: 0.9831, a: -0.18, a2: 0.98\r\n",
      "correct: 0.9836, a: -0.19, a2: 0.98\r\n",
      "correct: 0.9831, a: -0.19, a2: 0.98\r\n",
      "correct: 0.9834, a: -0.19, a2: 0.98\r\n",
      "correct: 0.9831, a: -0.19, a2: 0.98\r\n",
      "correct: 0.9831, a: -0.19, a2: 0.98\r\n",
      "correct: 0.9831, a: -0.19, a2: 0.98\r\n",
      "correct: 0.9834, a: -0.20, a2: 0.98\r\n",
      "correct: 0.9834, a: -0.20, a2: 0.98\r\n",
      "correct: 0.9834, a: -0.20, a2: 0.98\r\n",
      "correct: 0.9834, a: -0.20, a2: 0.98\r\n",
      "correct: 0.9834, a: -0.20, a2: 0.98\r\n",
      "correct: 0.9833, a: -0.20, a2: 0.98\r\n",
      "correct: 0.9833, a: -0.20, a2: 0.98\r\n",
      "correct: 0.9833, a: -0.20, a2: 0.98\r\n",
      "correct: 0.9833, a: -0.20, a2: 0.98\r\n",
      "correct: 0.9833, a: -0.20, a2: 0.98\r\n",
      "correct: 0.9833, a: -0.20, a2: 0.98\r\n",
      "correct: 0.9833, a: -0.20, a2: 0.98\r\n",
      "correct: 0.9833, a: -0.20, a2: 0.98\r\n",
      "correct: 0.9833, a: -0.20, a2: 0.98\r\n",
      "correct: 0.9834, a: -0.21, a2: 0.98\r\n",
      "correct: 0.9834, a: -0.21, a2: 0.98\r\n",
      "correct: 0.9834, a: -0.21, a2: 0.98\r\n",
      "correct: 0.9834, a: -0.21, a2: 0.98\r\n",
      "correct: 0.9835, a: -0.21, a2: 0.98\r\n",
      "correct: 0.9835, a: -0.21, a2: 0.98\r\n",
      "correct: 0.9835, a: -0.21, a2: 0.98\r\n",
      "correct: 0.9836, a: -0.21, a2: 0.98\r\n",
      "correct: 0.9837, a: -0.21, a2: 0.98\r\n",
      "correct: 0.9837, a: -0.21, a2: 0.98\r\n",
      "correct: 0.9837, a: -0.21, a2: 0.98\r\n",
      "correct: 0.9837, a: -0.21, a2: 0.98\r\n",
      "correct: 0.9837, a: -0.21, a2: 0.98\r\n",
      "correct: 0.9837, a: -0.21, a2: 0.98\r\n",
      "correct: 0.9837, a: -0.21, a2: 0.98\r\n",
      "correct: 0.9838, a: -0.21, a2: 0.98\r\n",
      "correct: 0.9838, a: -0.21, a2: 0.98\r\n",
      "correct: 0.9838, a: -0.21, a2: 0.98\r\n",
      "correct: 0.9838, a: -0.21, a2: 0.98\r\n",
      "correct: 0.9838, a: -0.21, a2: 0.98\r\n",
      "correct: 0.9838, a: -0.21, a2: 0.98\r\n",
      "correct: 0.9838, a: -0.21, a2: 0.98\r\n",
      "correct: 0.9838, a: -0.21, a2: 0.98\r\n",
      "correct: 0.9838, a: -0.21, a2: 0.98\r\n",
      "correct: 0.9838, a: -0.21, a2: 0.98\r\n",
      "correct: 0.9839, a: -0.21, a2: 0.98\r\n",
      "correct: 0.9839, a: -0.21, a2: 0.98\r\n",
      "correct: 0.9839, a: -0.21, a2: 0.98\r\n",
      "correct: 0.9839, a: -0.21, a2: 0.98\r\n",
      "correct: 0.9838, a: -0.21, a2: 0.98\r\n",
      "correct: 0.9838, a: -0.21, a2: 0.98\r\n",
      "correct: 0.9838, a: -0.21, a2: 0.98\r\n",
      "correct: 0.9838, a: -0.21, a2: 0.98\r\n",
      "correct: 0.9839, a: -0.22, a2: 0.98\r\n",
      "correct: 0.9839, a: -0.22, a2: 0.98\r\n",
      "correct: 0.9839, a: -0.22, a2: 0.98\r\n",
      "correct: 0.9839, a: -0.22, a2: 0.98\r\n",
      "correct: 0.9839, a: -0.22, a2: 0.98\r\n",
      "correct: 0.9839, a: -0.22, a2: 0.98\r\n",
      "correct: 0.9839, a: -0.22, a2: 0.98\r\n",
      "correct: 0.9839, a: -0.22, a2: 0.98\r\n",
      "correct: 0.9839, a: -0.22, a2: 0.98\r\n",
      "correct: 0.9839, a: -0.22, a2: 0.98\r\n",
      "correct: 0.9839, a: -0.22, a2: 0.98\r\n",
      "correct: 0.9839, a: -0.22, a2: 0.98\r\n",
      "correct: 0.9839, a: -0.22, a2: 0.98\r\n",
      "correct: 0.9839, a: -0.22, a2: 0.98\r\n",
      "correct: 0.9839, a: -0.22, a2: 0.98\r\n",
      "correct: 0.9839, a: -0.22, a2: 0.98\r\n",
      "correct: 0.9839, a: -0.22, a2: 0.98\r\n",
      "correct: 0.9839, a: -0.22, a2: 0.98\r\n",
      "correct: 0.9839, a: -0.22, a2: 0.98\r\n",
      "correct: 0.9839, a: -0.22, a2: 0.98\r\n",
      "\r\n",
      "real    170m27.920s\r\n",
      "user    336m15.217s\r\n",
      "sys     1m44.744s\r\n"
     ]
    }
   ],
   "source": [
    "%cat prelu_layer-wise.log"
   ]
  },
  {
   "cell_type": "markdown",
   "metadata": {},
   "source": [
    "4 A simple ConvNet\n",
    "---\n",
    "4.1 Sketch\n",
    "The colored bars highlight the convolutional layers.\n",
    "It assuems border_mode='half', which is supposed to mimic the behavious or border_mode='same' from the scipy conv2d implementation. The default shrinks the image size by (k/2 -1), 'full' increases it by the same amount. 'half'/'same' keeps the size as before.\n",
    "\n",
    "![title](architecture.png)"
   ]
  },
  {
   "cell_type": "markdown",
   "metadata": {},
   "source": [
    "4.2 fancy plots\n",
    "---"
   ]
  },
  {
   "cell_type": "code",
   "execution_count": 17,
   "metadata": {
    "collapsed": true
   },
   "outputs": [
    {
     "name": "stdout",
     "output_type": "stream",
     "text": [
      "In [7]: %time %run convnet.py\r\n",
      "start\r\n",
      "0.1225\r\n",
      "0.4951\r\n",
      "0.8969\r\n",
      "0.9461\r\n",
      "0.9644\r\n",
      "0.9734\r\n",
      "0.9772\r\n",
      "0.9816\r\n",
      "0.984\r\n",
      "0.9876\r\n",
      "0.9866\r\n",
      "0.9882\r\n",
      "0.9866\r\n",
      "0.9889\r\n",
      "0.9898\r\n",
      "0.9887\r\n",
      "0.9892\r\n",
      "0.9901\r\n",
      "0.9909\r\n",
      "0.9911\r\n",
      "CPU times: user 4min 37s, sys: 1min 55s, total: 6min 33s\r\n",
      "Wall time: 6min 35s\r\n"
     ]
    }
   ],
   "source": [
    "%cat convnet.log"
   ]
  },
  {
   "cell_type": "markdown",
   "metadata": {},
   "source": [
    "The 20th datum of the test set\n",
    "![title](test_20.png)\n"
   ]
  },
  {
   "cell_type": "markdown",
   "metadata": {},
   "source": [
    "The three first filtermaps from the first conv layer\n",
    "---\n",
    "Note how the middle one resembles a vertical edge detection filter.\n",
    "Interpretation of the other ones requires more imagination.\n",
    "The right most one has a faint resemblance of a diagonal edeg detection filter.\n",
    "![title](filters.png)"
   ]
  },
  {
   "cell_type": "markdown",
   "metadata": {},
   "source": [
    "The filtermaps applied to the test datum\n",
    "---\n",
    "The right most filter actually highlights diagonal edges!\n",
    "![title](filtered.png)"
   ]
  },
  {
   "cell_type": "markdown",
   "metadata": {},
   "source": [
    "4.3 extra task\n",
    "---\n",
    "Since all the models show good performance on the mnist data, it is not very interesting to increase the capability of the convnet.\n",
    "Instead, we want to see how it deteriorates. This gives us two possibilites, either increase the size until we run into convergence problems, or reduce the numbers of layers.\n",
    "For the sake of saving no computational and student resources, we chose the latter and removed the third convolutional layer.\n",
    "\n",
    "Of course it is a bad idea to just flatten the old output of the second layer, because it has 64x5x5 weights\n",
    "Instead the secodn layer now has only 16 feature maps, which gives a fullyconnected layer with 265 nodes. The hidden representation has only half the size of our prior architecture."
   ]
  },
  {
   "cell_type": "code",
   "execution_count": 19,
   "metadata": {
    "collapsed": false
   },
   "outputs": [
    {
     "name": "stdout",
     "output_type": "stream",
     "text": [
      "In [23]: %time %run convnet_small.py\r\n",
      "start\r\n",
      "0.846\r\n",
      "0.9495\r\n",
      "0.9698\r\n",
      "0.975\r\n",
      "0.9809\r\n",
      "0.9829\r\n",
      "0.9857\r\n",
      "0.987\r\n",
      "0.987\r\n",
      "0.9875\r\n",
      "0.9881\r\n",
      "0.9882\r\n",
      "0.9889\r\n",
      "0.9901\r\n",
      "0.9901\r\n",
      "0.9908\r\n",
      "0.9904\r\n",
      "0.9907\r\n",
      "0.991\r\n",
      "0.9902\r\n",
      "CPU times: user 3min 17s, sys: 1min 26s, total: 4min 44s\r\n",
      "Wall time: 4min 45s\r\n"
     ]
    }
   ],
   "source": [
    "%cat convnet_small.log"
   ]
  },
  {
   "cell_type": "markdown",
   "metadata": {},
   "source": [
    "5 Test Error Comparison\n",
    "---\n"
   ]
  },
  {
   "cell_type": "markdown",
   "metadata": {},
   "source": [
    "architecture | classification rate\n",
    "--|--\n",
    "basic | 0.9845\n",
    "dropout| 0.9874\n",
    "prelu | 0.9839\n",
    "convnet | 0.9911\n",
    "extra convnet | 0.9902\n",
    "\n",
    "All models perform well.\n",
    "The non-convolutional were all trained for five times as many epochs as the convolutional ones.\n",
    "But all models converged in clearly less than the "
   ]
  }
 ],
 "metadata": {
  "kernelspec": {
   "display_name": "Python 3",
   "language": "python",
   "name": "python3"
  },
  "language_info": {
   "codemirror_mode": {
    "name": "ipython",
    "version": 3
   },
   "file_extension": ".py",
   "mimetype": "text/x-python",
   "name": "python",
   "nbconvert_exporter": "python",
   "pygments_lexer": "ipython3",
   "version": "3.4.4"
  }
 },
 "nbformat": 4,
 "nbformat_minor": 0
}
