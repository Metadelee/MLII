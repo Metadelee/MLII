{
 "cells": [
  {
   "cell_type": "code",
   "execution_count": 1,
   "metadata": {
    "collapsed": false
   },
   "outputs": [],
   "source": [
    "from scipy.misc import imread, imsave\n",
    "import numpy as np\n",
    "import scipy.sparse\n",
    "import scipy.sparse.linalg\n",
    "import scipy.spatial\n",
    "import sobol"
   ]
  },
  {
   "cell_type": "markdown",
   "metadata": {},
   "source": [
    "##1. Parametric Kernel"
   ]
  },
  {
   "cell_type": "code",
   "execution_count": 24,
   "metadata": {
    "collapsed": false
   },
   "outputs": [],
   "source": [
    "# Matern kernel parameters\n",
    "SIGMA_RHO = 4\n",
    "SIGMA_TAU = 1\n",
    "SIGMA_GAMMA = 1\n",
    "\n",
    "class Theta:\n",
    "    def __init__(self, gamma, rho, tau):\n",
    "        self.gamma = gamma\n",
    "        self.rho = rho\n",
    "        self.tau = tau\n",
    "\n",
    "# GP1\n",
    "def r_squared(x, z, rho):\n",
    "    return np.sum((x - z)**2) / (rho ** 2)\n",
    "def G(x, z, gamma, rho):\n",
    "    return np.exp(-r_squared(x, z, rho) ** gamma)\n",
    "    \n",
    "# GP2\n",
    "def euclidean_distance(theta, theta_prime):\n",
    "    sigma_rho = SIGMA_RHO\n",
    "    sigma_tau = SIGMA_TAU\n",
    "    sigma_gamma = SIGMA_GAMMA\n",
    "    return (theta.rho - theta_prime.rho / sigma_rho) ** 2 + \\\n",
    "           (theta.gamma - theta_prime.gamma / sigma_gamma) ** 2 + \\\n",
    "           (theta.tau - theta_prime.tau / sigma_tau) ** 2\n",
    "\n",
    "def matern_kernel(theta, theta_prime):\n",
    "    s2 = euclidean_distance(theta, theta_prime)\n",
    "    return (1 + np.sqrt(5*s2) + 5 / 3. * s2) * np.exp(-np.sqrt(5*s2))"
   ]
  },
  {
   "cell_type": "code",
   "execution_count": 31,
   "metadata": {
    "collapsed": false
   },
   "outputs": [],
   "source": [
    "def GP1_kernel(data, theta, max_distance):\n",
    "    assert len(data.shape) == 2\n",
    "    \n",
    "    factor = -0.5 /  (theta.rho ** 2)\n",
    "    limit = np.exp(factor*max_distance**2)\n",
    "    # Find the pairwise squared distances and compute the Gaussian kernel.\n",
    "    K = []\n",
    "    for x in data:\n",
    "        d = np.array([G(x, z, theta.gamma, theta.rho) for z in data])\n",
    "        d[d < limit] = 0.0  # truncate the Gaussian\n",
    "        d = scipy.sparse.csc_matrix(d[:,None])\n",
    "        K.append(d)\n",
    "    K = scipy.sparse.hstack(K)\n",
    "    return K\n",
    "    \n",
    "def compute_alpha(train_x, train_y, theta, max_distance):\n",
    "    print \"building input kernel matrix\"\n",
    "    K = GP1_kernel(train_x, theta, max_distance)\n",
    "    print \"sparsity: %.2f%%\" % (float(100*K.nnz) / (K.shape[0]*K.shape[1]))\n",
    "    M = K + theta.tau * scipy.sparse.identity(train_x.shape[0])\n",
    "    y = scipy.sparse.csc_matrix(train_y[:,None])\n",
    "    print \"solving sparse system\"\n",
    "    alpha = scipy.sparse.linalg.cg(M, train_y)\n",
    "    print \"done computing alpha\"\n",
    "    return alpha[0]\n",
    "\n",
    "class ExponentialKernelRegressor(object):\n",
    "    def __init__(self, theta):\n",
    "        self.dim = None\n",
    "        self.train_x = None\n",
    "        self.alpha = None\n",
    "        self.mean_y = None\n",
    "        self.std_y = None\n",
    "        self.theta = theta\n",
    "        self.max_distance = 4.0 * self.theta.rho\n",
    "\n",
    "    def train(self, train_x, train_y):\n",
    "        \"\"\"Train the exponential kernel regressor.\n",
    "\n",
    "        :param train_x: training x data\n",
    "        :param train_y: training y data\n",
    "        \"\"\"\n",
    "        assert len(train_x.shape) == 2\n",
    "        assert len(train_y.shape) == 1\n",
    "        assert train_x.shape[0] == train_y.shape[0]\n",
    "        \n",
    "        self.dim= train_x.shape[1]\n",
    "        self.train_x = train_x.astype(np.float32)\n",
    "        self.tree = scipy.spatial.cKDTree(self.train_x)\n",
    "        \n",
    "        self.mean_y = train_y.mean()\n",
    "        self.std_y = train_y.std()\n",
    "        train_y_std = (train_y - self.mean_y) / self.std_y\n",
    "        \n",
    "        self.alpha = compute_alpha(self.train_x, train_y_std, self.theta, self.max_distance)\n",
    "        \n",
    "    def predict_single(self, pred_x):\n",
    "        \"\"\"Predict the value of a single instance.\n",
    "\n",
    "        :param pred_x: x data\n",
    "        :return: predicted value of pred_x\n",
    "        \"\"\"\n",
    "        assert len(pred_x.shape) == 1\n",
    "        assert pred_x.shape[0] == self.dim\n",
    "        indices = np.asarray(self.tree.query_ball_point(pred_x, self.max_distance))\n",
    "        dist = np.sum((self.train_x[indices]-pred_x)**2, axis=1)\n",
    "        kappa = np.exp(self.scale*dist)\n",
    "        pred_y = np.dot(kappa, self.alpha[indices])\n",
    "        return self.std_y * pred_y + self.mean_y\n",
    "\n",
    "    def predict(self, pred_x):\n",
    "        \"\"\"Predict the values of pred_x.\n",
    "\n",
    "        :param pred_x: x data\n",
    "        :return: predicted values of pred_x\n",
    "        \"\"\"\n",
    "        assert len(pred_x.shape) == 2\n",
    "        assert pred_x.shape[1] == self.dim\n",
    "        pred_x = pred_x.astype(np.float32)\n",
    "        return np.array([self.predict_single(x) for x in pred_x])\n",
    "\n",
    "def exponetial_kernel_regression(tau, rho, gamma, verbose=False):\n",
    "    # Load the image.\n",
    "    im_orig = np.squeeze(imread(\"cc_90.png\"))\n",
    "\n",
    "    # Make a copy, so both the original and the regressed image can be shown afterwards.\n",
    "    im = np.array(im_orig)\n",
    "\n",
    "    # Find the known pixels and the pixels that shall be predicted.\n",
    "    known_ind = np.where(im != 0)\n",
    "    unknown_ind = np.where(im >= 0)\n",
    "    known_x = np.array(known_ind).transpose()\n",
    "    known_y = np.array(im[known_ind])\n",
    "    pred_x = np.array(unknown_ind).transpose()\n",
    "    \n",
    "    theta = Theta(gamma, rho, tau)\n",
    "    reg = ExponentialKernelRegressor(theta)\n",
    "    \n",
    "    reg.train(known_x, known_y)\n",
    "    \n",
    "    pred_y = reg.predict(pred_x)\n",
    "    \n",
    "    im[unknown_ind] = pred_y\n",
    "    \n",
    "    if verbose:\n",
    "        imsave(\"res.png\", im)\n",
    "    \n",
    "    return im"
   ]
  },
  {
   "cell_type": "code",
   "execution_count": 32,
   "metadata": {
    "collapsed": false
   },
   "outputs": [
    {
     "name": "stdout",
     "output_type": "stream",
     "text": [
      "building input kernel matrix\n"
     ]
    },
    {
     "ename": "KeyboardInterrupt",
     "evalue": "",
     "output_type": "error",
     "traceback": [
      "\u001b[1;31m---------------------------------------------------------------------------\u001b[0m",
      "\u001b[1;31mKeyboardInterrupt\u001b[0m                         Traceback (most recent call last)",
      "\u001b[1;32m<ipython-input-32-6f65140b7897>\u001b[0m in \u001b[0;36m<module>\u001b[1;34m()\u001b[0m\n\u001b[1;32m----> 1\u001b[1;33m \u001b[0mtest\u001b[0m \u001b[1;33m=\u001b[0m \u001b[0mexponetial_kernel_regression\u001b[0m\u001b[1;33m(\u001b[0m\u001b[1;36m0.8\u001b[0m\u001b[1;33m,\u001b[0m \u001b[1;36m7.5\u001b[0m\u001b[1;33m,\u001b[0m \u001b[1;36m1.8\u001b[0m\u001b[1;33m)\u001b[0m\u001b[1;33m\u001b[0m\u001b[0m\n\u001b[0m",
      "\u001b[1;32m<ipython-input-31-1a2c72f39cfb>\u001b[0m in \u001b[0;36mexponetial_kernel_regression\u001b[1;34m(tau, rho, gamma, verbose)\u001b[0m\n\u001b[0;32m     97\u001b[0m     \u001b[0mreg\u001b[0m \u001b[1;33m=\u001b[0m \u001b[0mExponentialKernelRegressor\u001b[0m\u001b[1;33m(\u001b[0m\u001b[0mtheta\u001b[0m\u001b[1;33m)\u001b[0m\u001b[1;33m\u001b[0m\u001b[0m\n\u001b[0;32m     98\u001b[0m \u001b[1;33m\u001b[0m\u001b[0m\n\u001b[1;32m---> 99\u001b[1;33m     \u001b[0mreg\u001b[0m\u001b[1;33m.\u001b[0m\u001b[0mtrain\u001b[0m\u001b[1;33m(\u001b[0m\u001b[0mknown_x\u001b[0m\u001b[1;33m,\u001b[0m \u001b[0mknown_y\u001b[0m\u001b[1;33m)\u001b[0m\u001b[1;33m\u001b[0m\u001b[0m\n\u001b[0m\u001b[0;32m    100\u001b[0m \u001b[1;33m\u001b[0m\u001b[0m\n\u001b[0;32m    101\u001b[0m     \u001b[0mpred_y\u001b[0m \u001b[1;33m=\u001b[0m \u001b[0mreg\u001b[0m\u001b[1;33m.\u001b[0m\u001b[0mpredict\u001b[0m\u001b[1;33m(\u001b[0m\u001b[0mpred_x\u001b[0m\u001b[1;33m)\u001b[0m\u001b[1;33m\u001b[0m\u001b[0m\n",
      "\u001b[1;32m<ipython-input-31-1a2c72f39cfb>\u001b[0m in \u001b[0;36mtrain\u001b[1;34m(self, train_x, train_y)\u001b[0m\n\u001b[0;32m     53\u001b[0m         \u001b[0mtrain_y_std\u001b[0m \u001b[1;33m=\u001b[0m \u001b[1;33m(\u001b[0m\u001b[0mtrain_y\u001b[0m \u001b[1;33m-\u001b[0m \u001b[0mself\u001b[0m\u001b[1;33m.\u001b[0m\u001b[0mmean_y\u001b[0m\u001b[1;33m)\u001b[0m \u001b[1;33m/\u001b[0m \u001b[0mself\u001b[0m\u001b[1;33m.\u001b[0m\u001b[0mstd_y\u001b[0m\u001b[1;33m\u001b[0m\u001b[0m\n\u001b[0;32m     54\u001b[0m \u001b[1;33m\u001b[0m\u001b[0m\n\u001b[1;32m---> 55\u001b[1;33m         \u001b[0mself\u001b[0m\u001b[1;33m.\u001b[0m\u001b[0malpha\u001b[0m \u001b[1;33m=\u001b[0m \u001b[0mcompute_alpha\u001b[0m\u001b[1;33m(\u001b[0m\u001b[0mself\u001b[0m\u001b[1;33m.\u001b[0m\u001b[0mtrain_x\u001b[0m\u001b[1;33m,\u001b[0m \u001b[0mtrain_y_std\u001b[0m\u001b[1;33m,\u001b[0m \u001b[0mself\u001b[0m\u001b[1;33m.\u001b[0m\u001b[0mtheta\u001b[0m\u001b[1;33m,\u001b[0m \u001b[0mself\u001b[0m\u001b[1;33m.\u001b[0m\u001b[0mmax_distance\u001b[0m\u001b[1;33m)\u001b[0m\u001b[1;33m\u001b[0m\u001b[0m\n\u001b[0m\u001b[0;32m     56\u001b[0m \u001b[1;33m\u001b[0m\u001b[0m\n\u001b[0;32m     57\u001b[0m     \u001b[1;32mdef\u001b[0m \u001b[0mpredict_single\u001b[0m\u001b[1;33m(\u001b[0m\u001b[0mself\u001b[0m\u001b[1;33m,\u001b[0m \u001b[0mpred_x\u001b[0m\u001b[1;33m)\u001b[0m\u001b[1;33m:\u001b[0m\u001b[1;33m\u001b[0m\u001b[0m\n",
      "\u001b[1;32m<ipython-input-31-1a2c72f39cfb>\u001b[0m in \u001b[0;36mcompute_alpha\u001b[1;34m(train_x, train_y, theta, max_distance)\u001b[0m\n\u001b[0;32m     16\u001b[0m \u001b[1;32mdef\u001b[0m \u001b[0mcompute_alpha\u001b[0m\u001b[1;33m(\u001b[0m\u001b[0mtrain_x\u001b[0m\u001b[1;33m,\u001b[0m \u001b[0mtrain_y\u001b[0m\u001b[1;33m,\u001b[0m \u001b[0mtheta\u001b[0m\u001b[1;33m,\u001b[0m \u001b[0mmax_distance\u001b[0m\u001b[1;33m)\u001b[0m\u001b[1;33m:\u001b[0m\u001b[1;33m\u001b[0m\u001b[0m\n\u001b[0;32m     17\u001b[0m     \u001b[1;32mprint\u001b[0m \u001b[1;34m\"building input kernel matrix\"\u001b[0m\u001b[1;33m\u001b[0m\u001b[0m\n\u001b[1;32m---> 18\u001b[1;33m     \u001b[0mK\u001b[0m \u001b[1;33m=\u001b[0m \u001b[0mGP1_kernel\u001b[0m\u001b[1;33m(\u001b[0m\u001b[0mtrain_x\u001b[0m\u001b[1;33m,\u001b[0m \u001b[0mtheta\u001b[0m\u001b[1;33m,\u001b[0m \u001b[0mmax_distance\u001b[0m\u001b[1;33m)\u001b[0m\u001b[1;33m\u001b[0m\u001b[0m\n\u001b[0m\u001b[0;32m     19\u001b[0m     \u001b[1;32mprint\u001b[0m \u001b[1;34m\"sparsity: %.2f%%\"\u001b[0m \u001b[1;33m%\u001b[0m \u001b[1;33m(\u001b[0m\u001b[0mfloat\u001b[0m\u001b[1;33m(\u001b[0m\u001b[1;36m100\u001b[0m\u001b[1;33m*\u001b[0m\u001b[0mK\u001b[0m\u001b[1;33m.\u001b[0m\u001b[0mnnz\u001b[0m\u001b[1;33m)\u001b[0m \u001b[1;33m/\u001b[0m \u001b[1;33m(\u001b[0m\u001b[0mK\u001b[0m\u001b[1;33m.\u001b[0m\u001b[0mshape\u001b[0m\u001b[1;33m[\u001b[0m\u001b[1;36m0\u001b[0m\u001b[1;33m]\u001b[0m\u001b[1;33m*\u001b[0m\u001b[0mK\u001b[0m\u001b[1;33m.\u001b[0m\u001b[0mshape\u001b[0m\u001b[1;33m[\u001b[0m\u001b[1;36m1\u001b[0m\u001b[1;33m]\u001b[0m\u001b[1;33m)\u001b[0m\u001b[1;33m)\u001b[0m\u001b[1;33m\u001b[0m\u001b[0m\n\u001b[0;32m     20\u001b[0m     \u001b[0mM\u001b[0m \u001b[1;33m=\u001b[0m \u001b[0mK\u001b[0m \u001b[1;33m+\u001b[0m \u001b[0mtheta\u001b[0m\u001b[1;33m.\u001b[0m\u001b[0mtau\u001b[0m \u001b[1;33m*\u001b[0m \u001b[0mscipy\u001b[0m\u001b[1;33m.\u001b[0m\u001b[0msparse\u001b[0m\u001b[1;33m.\u001b[0m\u001b[0midentity\u001b[0m\u001b[1;33m(\u001b[0m\u001b[0mtrain_x\u001b[0m\u001b[1;33m.\u001b[0m\u001b[0mshape\u001b[0m\u001b[1;33m[\u001b[0m\u001b[1;36m0\u001b[0m\u001b[1;33m]\u001b[0m\u001b[1;33m)\u001b[0m\u001b[1;33m\u001b[0m\u001b[0m\n",
      "\u001b[1;32m<ipython-input-31-1a2c72f39cfb>\u001b[0m in \u001b[0;36mGP1_kernel\u001b[1;34m(data, theta, max_distance)\u001b[0m\n\u001b[0;32m      7\u001b[0m     \u001b[0mK\u001b[0m \u001b[1;33m=\u001b[0m \u001b[1;33m[\u001b[0m\u001b[1;33m]\u001b[0m\u001b[1;33m\u001b[0m\u001b[0m\n\u001b[0;32m      8\u001b[0m     \u001b[1;32mfor\u001b[0m \u001b[0mx\u001b[0m \u001b[1;32min\u001b[0m \u001b[0mdata\u001b[0m\u001b[1;33m:\u001b[0m\u001b[1;33m\u001b[0m\u001b[0m\n\u001b[1;32m----> 9\u001b[1;33m         \u001b[0md\u001b[0m \u001b[1;33m=\u001b[0m \u001b[0mnp\u001b[0m\u001b[1;33m.\u001b[0m\u001b[0marray\u001b[0m\u001b[1;33m(\u001b[0m\u001b[1;33m[\u001b[0m\u001b[0mG\u001b[0m\u001b[1;33m(\u001b[0m\u001b[0mx\u001b[0m\u001b[1;33m,\u001b[0m \u001b[0mz\u001b[0m\u001b[1;33m,\u001b[0m \u001b[0mtheta\u001b[0m\u001b[1;33m.\u001b[0m\u001b[0mgamma\u001b[0m\u001b[1;33m,\u001b[0m \u001b[0mtheta\u001b[0m\u001b[1;33m.\u001b[0m\u001b[0mrho\u001b[0m\u001b[1;33m)\u001b[0m \u001b[1;32mfor\u001b[0m \u001b[0mz\u001b[0m \u001b[1;32min\u001b[0m \u001b[0mdata\u001b[0m\u001b[1;33m]\u001b[0m\u001b[1;33m)\u001b[0m\u001b[1;33m\u001b[0m\u001b[0m\n\u001b[0m\u001b[0;32m     10\u001b[0m         \u001b[0md\u001b[0m\u001b[1;33m[\u001b[0m\u001b[0md\u001b[0m \u001b[1;33m<\u001b[0m \u001b[0mlimit\u001b[0m\u001b[1;33m]\u001b[0m \u001b[1;33m=\u001b[0m \u001b[1;36m0.0\u001b[0m  \u001b[1;31m# truncate the Gaussian\u001b[0m\u001b[1;33m\u001b[0m\u001b[0m\n\u001b[0;32m     11\u001b[0m         \u001b[0md\u001b[0m \u001b[1;33m=\u001b[0m \u001b[0mscipy\u001b[0m\u001b[1;33m.\u001b[0m\u001b[0msparse\u001b[0m\u001b[1;33m.\u001b[0m\u001b[0mcsc_matrix\u001b[0m\u001b[1;33m(\u001b[0m\u001b[0md\u001b[0m\u001b[1;33m[\u001b[0m\u001b[1;33m:\u001b[0m\u001b[1;33m,\u001b[0m\u001b[0mNone\u001b[0m\u001b[1;33m]\u001b[0m\u001b[1;33m)\u001b[0m\u001b[1;33m\u001b[0m\u001b[0m\n",
      "\u001b[1;32m<ipython-input-24-d435a5fed6c7>\u001b[0m in \u001b[0;36mG\u001b[1;34m(x, z, gamma, rho)\u001b[0m\n\u001b[0;32m     14\u001b[0m     \u001b[1;32mreturn\u001b[0m \u001b[0mnp\u001b[0m\u001b[1;33m.\u001b[0m\u001b[0msum\u001b[0m\u001b[1;33m(\u001b[0m\u001b[1;33m(\u001b[0m\u001b[0mx\u001b[0m \u001b[1;33m-\u001b[0m \u001b[0mz\u001b[0m\u001b[1;33m)\u001b[0m\u001b[1;33m**\u001b[0m\u001b[1;36m2\u001b[0m\u001b[1;33m)\u001b[0m \u001b[1;33m/\u001b[0m \u001b[1;33m(\u001b[0m\u001b[0mrho\u001b[0m \u001b[1;33m**\u001b[0m \u001b[1;36m2\u001b[0m\u001b[1;33m)\u001b[0m\u001b[1;33m\u001b[0m\u001b[0m\n\u001b[0;32m     15\u001b[0m \u001b[1;32mdef\u001b[0m \u001b[0mG\u001b[0m\u001b[1;33m(\u001b[0m\u001b[0mx\u001b[0m\u001b[1;33m,\u001b[0m \u001b[0mz\u001b[0m\u001b[1;33m,\u001b[0m \u001b[0mgamma\u001b[0m\u001b[1;33m,\u001b[0m \u001b[0mrho\u001b[0m\u001b[1;33m)\u001b[0m\u001b[1;33m:\u001b[0m\u001b[1;33m\u001b[0m\u001b[0m\n\u001b[1;32m---> 16\u001b[1;33m     \u001b[1;32mreturn\u001b[0m \u001b[0mnp\u001b[0m\u001b[1;33m.\u001b[0m\u001b[0mexp\u001b[0m\u001b[1;33m(\u001b[0m\u001b[1;33m-\u001b[0m\u001b[0mr_squared\u001b[0m\u001b[1;33m(\u001b[0m\u001b[0mx\u001b[0m\u001b[1;33m,\u001b[0m \u001b[0mz\u001b[0m\u001b[1;33m,\u001b[0m \u001b[0mrho\u001b[0m\u001b[1;33m)\u001b[0m \u001b[1;33m**\u001b[0m \u001b[0mgamma\u001b[0m\u001b[1;33m)\u001b[0m\u001b[1;33m\u001b[0m\u001b[0m\n\u001b[0m\u001b[0;32m     17\u001b[0m \u001b[1;33m\u001b[0m\u001b[0m\n\u001b[0;32m     18\u001b[0m \u001b[1;31m# GP2\u001b[0m\u001b[1;33m\u001b[0m\u001b[1;33m\u001b[0m\u001b[0m\n",
      "\u001b[1;31mKeyboardInterrupt\u001b[0m: "
     ]
    }
   ],
   "source": [
    "test = exponetial_kernel_regression(0.8, 7.5, 1.8)"
   ]
  },
  {
   "cell_type": "code",
   "execution_count": null,
   "metadata": {
    "collapsed": true
   },
   "outputs": [],
   "source": []
  },
  {
   "cell_type": "markdown",
   "metadata": {
    "collapsed": true
   },
   "source": [
    "## Bayesian Optimization of Hyperparameters"
   ]
  },
  {
   "cell_type": "code",
   "execution_count": 7,
   "metadata": {
    "collapsed": true
   },
   "outputs": [],
   "source": [
    "def mse(I, I_head):\n",
    "    assert(I.shape == I_head.shape)\n",
    "    \n",
    "    return [(I[i, j] - I_head[i, j]) ** 2 for i in range(I.shape[0] for j in range(I.shape[1]))] / float(I.size)"
   ]
  },
  {
   "cell_type": "code",
   "execution_count": null,
   "metadata": {
    "collapsed": true
   },
   "outputs": [],
   "source": [
    "NUM_SAMPLES = 2000\n",
    "NUM_P = 20\n",
    "LAMBDA = 0.3\n",
    "\n",
    "parameterUpperLimits = np.array([limit_rho, limit_gamma, limit_tau])\n",
    "parameterLowerLimits = np.array([limit_rho, limit_gamma, limit_tau])\n",
    "for i in range ( number_of_samples ):\n",
    "    rho , gamma , tau = sobol.i4_sobol(3,i)[0] * (parameterUpperLimits - parameterLowerLimits) + parameterLowerLimits\n",
    "\n",
    "msea = E.T * np.invert(M + LAMBDA * np.identity(thetas.size)) * m"
   ]
  }
 ],
 "metadata": {
  "kernelspec": {
   "display_name": "Python 2",
   "language": "python",
   "name": "python2"
  },
  "language_info": {
   "codemirror_mode": {
    "name": "ipython",
    "version": 2
   },
   "file_extension": ".py",
   "mimetype": "text/x-python",
   "name": "python",
   "nbconvert_exporter": "python",
   "pygments_lexer": "ipython2",
   "version": "2.7.10"
  }
 },
 "nbformat": 4,
 "nbformat_minor": 0
}
