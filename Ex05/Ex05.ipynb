{
 "cells": [
  {
   "cell_type": "code",
   "execution_count": 4,
   "metadata": {
    "collapsed": true
   },
   "outputs": [],
   "source": [
    "from scipy.misc import imread, imsave\n",
    "import numpy as np\n",
    "import scipy.sparse\n",
    "import scipy.sparse.linalg\n",
    "import scipy.spatial"
   ]
  },
  {
   "cell_type": "markdown",
   "metadata": {},
   "source": [
    "##1. Parametric Kernel"
   ]
  },
  {
   "cell_type": "code",
   "execution_count": null,
   "metadata": {
    "collapsed": true
   },
   "outputs": [],
   "source": [
    "class Theta:\n",
    "    def __init__(self, gamma, rho, tau):\n",
    "        self.gamma = gamma\n",
    "        self.rho = rho\n",
    "        self.tau = tau\n",
    "\n",
    "# GP1\n",
    "def r(x, z, rho):\n",
    "    return (np.abs(x-z) ** 2) / (rho ** 2)\n",
    "def G(x, z, gamma, rho):\n",
    "    np.exp(-r(x, z, rho) ** gamma)\n",
    "    \n",
    "# GP2\n",
    "def euclidean_distance(theta, theta_prime):\n",
    "    sigma_rho = ...\n",
    "    sigma_tau = ...\n",
    "    sigma_gamma = ...\n",
    "    return (theta.rho - theta_prime.rho / sigma_rho) ** 2 +\n",
    "           (theta.gamma - theta_prime.gamma / sigma_gamma) ** 2 +\n",
    "           (theta.tau - theta_prime.tau / sigma_tau) ** 2\n",
    "\n",
    "def matern_kernel(theta, theta_prime):\n",
    "    s2 = euclidean_distance(theta, theta_prime)\n",
    "    return (1 + np.sqrt(5*s2) + 5 / 3. * s2) * np.exp(-np.sqrt(5*s2))"
   ]
  },
  {
   "cell_type": "code",
   "execution_count": null,
   "metadata": {
    "collapsed": true
   },
   "outputs": [],
   "source": [
    "def exponetial_kernel_regression(tau, sigma, gamma):\n",
    "    # Load the image.\n",
    "    im_orig = np.squeeze(imread(\"cc_90.png\"))\n",
    "\n",
    "    # Make a copy, so both the original and the regressed image can be shown afterwards.\n",
    "    im = np.array(im_orig)\n",
    "\n",
    "    # Find the known pixels and the pixels that shall be predicted.\n",
    "    known_ind = np.where(im != 0)\n",
    "    unknown_ind = np.where(im >= 0)\n",
    "    known_x = np.array(known_ind).transpose()\n",
    "    known_y = np.array(im[known_ind])\n",
    "    pred_x = np.array(unknown_ind).transpose()\n",
    "    \n",
    "    theta = Theta(gamma, rho, tau)\n",
    "    r = ExponentialKernelRegressor(theta)\n",
    "    r.train(known_x, known_y)\n",
    "    \n",
    "    pred_y = r.predict(pred_y)\n",
    "\n",
    "def ExponentialKernelRegressor(object):\n",
    "    def __init__(self, theta):\n",
    "        self.dim = None\n",
    "        self.train_x = None\n",
    "        self.alpha = None\n",
    "        self.mean_y = None\n",
    "        self.std_Y = None\n",
    "        self.theta = theta\n",
    "        \n",
    "    def train(self, train_x, train_y):\n",
    "        \"\"\"Train the exponential kernel regressor.\n",
    "\n",
    "        :param train_x: training x data\n",
    "        :param train_y: training y data\n",
    "        \"\"\"\n",
    "        assert len(train_x.shape) == 2\n",
    "        assert len(train_y.shape) == 1\n",
    "        assert train_x.shape[0] == train_y.shape[0]\n",
    "        \n",
    "        self.dim= train_x.shape[1]\n",
    "        self.train_x = train_x.astype(numpy.float32)\n",
    "        self.tree = scipy.spatial.cKDTree(self.train_x)\n",
    "        \n",
    "        self.mean_y = train_y.mean()\n",
    "        self.std_y = train_y.std()\n",
    "        train_y_std = (train_y - self.mean_y) / self.std_y\n",
    "        \n",
    "        self.alpha = compute_alpha(self.train_x, train_y_std, self.tau, self.sigma, self.max_distance)\n",
    "        \n",
    "    def predict(self, pred_x):\n",
    "        pass\n",
    "        "
   ]
  },
  {
   "cell_type": "code",
   "execution_count": 3,
   "metadata": {
    "collapsed": false
   },
   "outputs": [
    {
     "name": "stdout",
     "output_type": "stream",
     "text": [
      "training...\n",
      "building input kernel matrix\n",
      "sparsity: 0.91%\n",
      "solving sparse system\n",
      "done computing alpha\n",
      "done training\n",
      "predicting...\n",
      "done predicting\n",
      "Train and predict took 14.38 seconds.\n",
      "(338L, 250L)\n"
     ]
    }
   ],
   "source": [
    "%run ridge_regression.py"
   ]
  },
  {
   "cell_type": "code",
   "execution_count": null,
   "metadata": {
    "collapsed": true
   },
   "outputs": [],
   "source": []
  },
  {
   "cell_type": "code",
   "execution_count": null,
   "metadata": {
    "collapsed": true
   },
   "outputs": [],
   "source": []
  }
 ],
 "metadata": {
  "kernelspec": {
   "display_name": "Python 2",
   "language": "python",
   "name": "python2"
  },
  "language_info": {
   "codemirror_mode": {
    "name": "ipython",
    "version": 2
   },
   "file_extension": ".py",
   "mimetype": "text/x-python",
   "name": "python",
   "nbconvert_exporter": "python",
   "pygments_lexer": "ipython2",
   "version": "2.7.10"
  }
 },
 "nbformat": 4,
 "nbformat_minor": 0
}
