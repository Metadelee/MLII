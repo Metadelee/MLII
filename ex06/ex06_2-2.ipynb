{
 "cells": [
  {
   "cell_type": "code",
   "execution_count": 5,
   "metadata": {
    "collapsed": true
   },
   "outputs": [],
   "source": [
    "import random\n",
    "\n",
    "class child():\n",
    "    def __init__(self):\n",
    "        self.gender = random.choice([\"boy\", \"girl\"])\n",
    "        self.birthday = random.randint(1, 365)\n",
    "        self.weekday = random.randint(1,7)"
   ]
  },
  {
   "cell_type": "code",
   "execution_count": 7,
   "metadata": {
    "collapsed": false
   },
   "outputs": [
    {
     "name": "stdout",
     "output_type": "stream",
     "text": [
      "Theoretical p:\t0.25\n",
      "Observed p:\t0.250078\n"
     ]
    }
   ],
   "source": [
    "# 1: you have no additional information\n",
    "cases_condA, cases_condB = 0, 0.\n",
    "for n in range(10000000):\n",
    "    child1 = child()\n",
    "    child2 = child()\n",
    "    if True:\n",
    "        cases_condA += 1\n",
    "        if child1.gender == \"boy\" and child2.gender == \"boy\":\n",
    "            cases_condB += 1\n",
    "print(\"Theoretical p:\\t0.25\")\n",
    "print(\"Observed p:\\t%f\" % (cases_condB / cases_condA))"
   ]
  },
  {
   "cell_type": "code",
   "execution_count": 9,
   "metadata": {
    "collapsed": false
   },
   "outputs": [
    {
     "name": "stdout",
     "output_type": "stream",
     "text": [
      "Theoretical p:\t0.333333\n",
      "Observed p:\t0.333334\n"
     ]
    }
   ],
   "source": [
    "# 2: you meet Alitce with one of her children who is a boy\n",
    "cases_condA, cases_condB = 0, 0.\n",
    "for n in range(10000000):\n",
    "    child1 = child()\n",
    "    child2 = child()\n",
    "    if child1.gender == \"boy\" or child2.gender == \"boy\":\n",
    "        cases_condA += 1\n",
    "        if child1.gender == \"boy\" and child2.gender == \"boy\":\n",
    "            cases_condB += 1\n",
    "print(\"Theoretical p:\\t0.333333\")\n",
    "print(\"Observed p:\\t%f\" % (cases_condB / cases_condA))"
   ]
  },
  {
   "cell_type": "code",
   "execution_count": 10,
   "metadata": {
    "collapsed": false
   },
   "outputs": [
    {
     "name": "stdout",
     "output_type": "stream",
     "text": [
      "Theoretical p:\t0.5\n",
      "Observed p:\t0.499894\n"
     ]
    }
   ],
   "source": [
    "# 3: you meet Alice with one of her children who is a boy, and Alice says: \"This is my first-born.\"\n",
    "cases_condA, cases_condB = 0, 0.\n",
    "for n in range(10000000):\n",
    "    child1 = child()\n",
    "    child2 = child()\n",
    "    if child1.gender == \"boy\":\n",
    "        cases_condA += 1\n",
    "        if child1.gender == \"boy\" and child2.gender == \"boy\":\n",
    "            cases_condB += 1\n",
    "print(\"Theoretical p:\\t0.5\")\n",
    "print(\"Observed p:\\t%f\" % (cases_condB / cases_condA))"
   ]
  },
  {
   "cell_type": "code",
   "execution_count": 12,
   "metadata": {
    "collapsed": false
   },
   "outputs": [
    {
     "name": "stdout",
     "output_type": "stream",
     "text": [
      "Theoretical p:\t0.481481\n",
      "Observed p:\t0.481200\n"
     ]
    }
   ],
   "source": [
    "#4: you meet Alice with one of her children who is a boy, and Alice says: \"He was born on a Sunday.\"\n",
    "cases_condA, cases_condB = 0, 0.\n",
    "for n in range(10000000):\n",
    "    child1 = child()\n",
    "    child2 = child()\n",
    "    if (child1.gender == \"boy\" and child1.weekday == 7) or (child2.gender == \"boy\" and child2.weekday == 7):\n",
    "        cases_condA += 1\n",
    "        if child1.gender == \"boy\" and child2.gender == \"boy\":\n",
    "            cases_condB += 1\n",
    "print(\"Theoretical p:\\t0.481481\")\n",
    "print(\"Observed p:\\t%f\" % (cases_condB / cases_condA))"
   ]
  },
  {
   "cell_type": "code",
   "execution_count": 13,
   "metadata": {
    "collapsed": false
   },
   "outputs": [
    {
     "name": "stdout",
     "output_type": "stream",
     "text": [
      "Theoretical p:\t0.499657\n",
      "Observed p:\t0.499523\n"
     ]
    }
   ],
   "source": [
    "#5: you meet Alice with one of her children who is a boy, and Alice says: \"Today is his birthday.\"\n",
    "# We assume the 29th of February does not exist\n",
    "cases_condA, cases_condB = 0, 0.\n",
    "for n in range(10000000):\n",
    "    child1 = child()\n",
    "    child2 = child()\n",
    "    if (child1.gender == \"boy\" and child1.birthday == 1) or (child2.gender == \"boy\" and child2.birthday == 1):\n",
    "        cases_condA += 1\n",
    "        if child1.gender == \"boy\" and child2.gender == \"boy\":\n",
    "            cases_condB += 1\n",
    "print(\"Theoretical p:\\t0.499657\")\n",
    "print(\"Observed p:\\t%f\" % (cases_condB / cases_condA))"
   ]
  },
  {
   "cell_type": "code",
   "execution_count": null,
   "metadata": {
    "collapsed": true
   },
   "outputs": [],
   "source": []
  }
 ],
 "metadata": {
  "kernelspec": {
   "display_name": "Python 3",
   "language": "python",
   "name": "python3"
  },
  "language_info": {
   "codemirror_mode": {
    "name": "ipython",
    "version": 3
   },
   "file_extension": ".py",
   "mimetype": "text/x-python",
   "name": "python",
   "nbconvert_exporter": "python",
   "pygments_lexer": "ipython3",
   "version": "3.3.5"
  }
 },
 "nbformat": 4,
 "nbformat_minor": 0
}
