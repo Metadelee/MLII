{
 "cells": [
  {
   "cell_type": "markdown",
   "metadata": {},
   "source": [
    "## 2.1 Shortest Path\n",
    "- The transition propabiltiy matrix $N$ can be computed from $M$ via devision of the columns by the column sum\n",
    "  $N_{i,j} = M_{i,j} / \\sum_{k = 0}^{99}{M_{k,j}}$\n",
    "- The most likely path is the sequence of $D$ rooms $x_i$ in $X$ that maximizes $N_{0,x_1}\\cdot\\prod_{i=2}^{D-1}{N_{x_i,x_{i+1}}} \\cdot N_{x_D, 99}$"
   ]
  },
  {
   "cell_type": "code",
   "execution_count": 1,
   "metadata": {
    "collapsed": false
   },
   "outputs": [],
   "source": [
    "import numpy as np\n",
    "import random\n",
    "M = np.load(\"maze.npy\")"
   ]
  },
  {
   "cell_type": "code",
   "execution_count": 27,
   "metadata": {
    "collapsed": false
   },
   "outputs": [],
   "source": [
    "# test with an arbitray matrix\n",
    "M = np.zeros([100,100])\n",
    "for i in range(1000):\n",
    "    a = random.randint(0,99)\n",
    "    b = random.randint(0, 99)\n",
    "    if a != b:\n",
    "        M[a,b] = 1\n",
    "        M[b,a] = 1"
   ]
  },
  {
   "cell_type": "code",
   "execution_count": 42,
   "metadata": {
    "collapsed": true
   },
   "outputs": [],
   "source": [
    "# compute the transition probability matrix M\n",
    "N = np.zeros([100, 100])\n",
    "for i in range(100):\n",
    "    N[:,i] = M[:,i] / np.sum(M[:,i])"
   ]
  },
  {
   "cell_type": "code",
   "execution_count": 20,
   "metadata": {
    "collapsed": false
   },
   "outputs": [],
   "source": [
    "# compute the shortest path, broad search\n",
    "reached = np.zeros([100])\n",
    "reached[0] = 1\n",
    "last = [0]\n",
    "while reached[99] == 0 and len(last) > 0:\n",
    "    news = []\n",
    "    for n in last:\n",
    "        l = [i for i in range(100) if reached[i] == 0 and M[i, n] == 1]\n",
    "        for i in l:\n",
    "            reached[i] = n +2\n",
    "        news.extend(l)\n",
    "    last = news"
   ]
  },
  {
   "cell_type": "code",
   "execution_count": 21,
   "metadata": {
    "collapsed": false
   },
   "outputs": [
    {
     "name": "stdout",
     "output_type": "stream",
     "text": [
      "The (or one of the) fastest path from room 0 to room 99 is:\n",
      "[0, 1, 4, 78, 77, 80, 83, 84, 85, 89, 91, 94, 96, 99]\n",
      "that visits 14 rooms in total\n"
     ]
    }
   ],
   "source": [
    "path = [99]\n",
    "pos = 99\n",
    "while pos != 0:\n",
    "    pos = reached[pos] - 2\n",
    "    path.append(int(pos))\n",
    "print \"The (or one of the) fastest path from room 0 to room 99 is:\"\n",
    "print path[::-1]\n",
    "print \"that visits %i rooms in total\" % len(path)"
   ]
  },
  {
   "cell_type": "code",
   "execution_count": 64,
   "metadata": {
    "collapsed": false
   },
   "outputs": [],
   "source": [
    "# find the most likely path from 0 to 99\n",
    "reached = np.zeros([100,2])\n",
    "reached[0,:] = [1, 1.]\n",
    "last = [0]\n",
    "while len(last) > 0:\n",
    "    news = set()\n",
    "    for l in last:\n",
    "        p = reached[l,1]\n",
    "        p_n = 1. / np.sum(M[:,l]) *p\n",
    "        n = [i for i in range(100) if M[i,l] == 1 and p_n > reached[i,1]]\n",
    "        for n_ in n:\n",
    "            reached[n_,0] = l + 2\n",
    "            reached[n_,1]= p_n\n",
    "        news = news.union(n)\n",
    "    last = news"
   ]
  },
  {
   "cell_type": "code",
   "execution_count": 66,
   "metadata": {
    "collapsed": false
   },
   "outputs": [
    {
     "name": "stdout",
     "output_type": "stream",
     "text": [
      "The (or one of the) most likely path from room 0 to room 99 is:\n",
      "[0, 1, 4, 78, 79, 80, 83, 84, 85, 89, 91, 94, 96, 99]\n",
      "With probability 4.42885487528e-10\n"
     ]
    }
   ],
   "source": [
    "path = [99]\n",
    "pos = 99\n",
    "while pos != 0:\n",
    "    pos = reached[pos,0] - 2\n",
    "    path.append(int(pos))\n",
    "print \"The (or one of the) most likely path from room 0 to room 99 is:\"\n",
    "print path[::-1]\n",
    "print \"with probability %s\" % reached[99, 1]"
   ]
  },
  {
   "cell_type": "markdown",
   "metadata": {
    "collapsed": true
   },
   "source": [
    "##2.2 Expexted traversal time"
   ]
  },
  {
   "cell_type": "markdown",
   "metadata": {
    "collapsed": false
   },
   "source": [
    "The transition matrix $N$ was generated from the room Matrix $M$. We now define $N'$ which is equal to $N$ but in column $j$ which is all zeros (every walker that enters room $j$ disappears -> we do not need to track it anymore.\n",
    "Further, the distribution of walker at step $t$ that have not yet entered room $j$ is given as $p_t$ with $p_0$ being all zeros but $p_{0,i} = 1$\n",
    "The distribution after each step is now given as $p_t = N' \\times p_{t-1} = (N')^t \\times p_0$.\n",
    "The average time $t_a$ the walker needs to reach room $j$ from room $i$ is then given as $t_a = \\sum_{t=1}^\\infty t \\cdot p_{t,j}$"
   ]
  },
  {
   "cell_type": "code",
   "execution_count": 53,
   "metadata": {
    "collapsed": false
   },
   "outputs": [
    {
     "name": "stdout",
     "output_type": "stream",
     "text": [
      "The expected average time from room 0 to room 99 is 2712.520579 time steps\n"
     ]
    }
   ],
   "source": [
    "START = 0\n",
    "END = 99\n",
    "\n",
    "time_average = 0\n",
    "dist = np.zeros([100])\n",
    "dist[START] = 1\n",
    "transitions = np.copy(N)\n",
    "transitions[:,END] = 0\n",
    "for t in range(1,100000): #upper time limit from which the average time does not change anymore (theoretically numberical analysis needed)\n",
    "    dist = np.dot(transitions,dist)\n",
    "    time_average += t * dist[END]\n",
    "print \"The expected average time from room %i to room %i is %f time steps\" % (START, END, time_average)"
   ]
  },
  {
   "cell_type": "code",
   "execution_count": 60,
   "metadata": {
    "collapsed": false
   },
   "outputs": [
    {
     "name": "stdout",
     "output_type": "stream",
     "text": [
      "The average time from room 0 to room 99 observed was 2707.583360 time steps\n"
     ]
    }
   ],
   "source": [
    "NUM_WALKS = 100000\n",
    "cummulated_time = 0.\n",
    "\n",
    "next_rooms = [[room2 for room2 in range(100) if M[room2, room] == 1] for room in range(100)]\n",
    "for i in range(NUM_WALKS):\n",
    "    room = START\n",
    "    t = 0\n",
    "    while room != END:\n",
    "        t += 1\n",
    "        room = random.choice(next_rooms[room])\n",
    "    cummulated_time += t\n",
    "print \"The average time from room %i to room %i observed was %f time steps\" % (START, END, cummulated_time / NUM_WALKS)"
   ]
  }
 ],
 "metadata": {
  "kernelspec": {
   "display_name": "Python 3",
   "language": "python",
   "name": "python3"
  },
  "language_info": {
   "codemirror_mode": {
    "name": "ipython",
    "version": 3
   },
   "file_extension": ".py",
   "mimetype": "text/x-python",
   "name": "python",
   "nbconvert_exporter": "python",
   "pygments_lexer": "ipython3",
   "version": "3.3.5"
  }
 },
 "nbformat": 4,
 "nbformat_minor": 0
}
