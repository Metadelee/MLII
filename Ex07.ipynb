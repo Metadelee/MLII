{
 "cells": [
  {
   "cell_type": "markdown",
   "metadata": {},
   "source": [
    "## 2.1 Shortest Path\n",
    "- The transition propabiltiy matrix N can be computed from M via devision of the columns by the column sum\n",
    "  $N_{i,j} = M_{i,j} / \\sum_{k\\element(0,99)}{M_{k,j}}$\n",
    "- The most likely path is the sequence of points D elements $x_i in X$ that maximize p(N_{0,x_1}\\cdot\\product_i{p(N_{x_i,x_{i+1}})} \\cdot p(x_D, x_99)"
   ]
  },
  {
   "cell_type": "code",
   "execution_count": 2,
   "metadata": {
    "collapsed": false
   },
   "outputs": [
    {
     "ename": "IOError",
     "evalue": "[Errno 2] No such file or directory: 'maze.npy'",
     "output_type": "error",
     "traceback": [
      "\u001b[1;31m---------------------------------------------------------------------------\u001b[0m",
      "\u001b[1;31mIOError\u001b[0m                                   Traceback (most recent call last)",
      "\u001b[1;32m<ipython-input-2-dd777e6b8a50>\u001b[0m in \u001b[0;36m<module>\u001b[1;34m()\u001b[0m\n\u001b[0;32m      1\u001b[0m \u001b[1;32mimport\u001b[0m \u001b[0mnumpy\u001b[0m \u001b[1;32mas\u001b[0m \u001b[0mnp\u001b[0m\u001b[1;33m\u001b[0m\u001b[0m\n\u001b[1;32m----> 2\u001b[1;33m \u001b[0mM\u001b[0m \u001b[1;33m=\u001b[0m \u001b[0mnp\u001b[0m\u001b[1;33m.\u001b[0m\u001b[0mload\u001b[0m\u001b[1;33m(\u001b[0m\u001b[1;34m\"maze.npy\"\u001b[0m\u001b[1;33m)\u001b[0m\u001b[1;33m\u001b[0m\u001b[0m\n\u001b[0m",
      "\u001b[1;32mC:\\Users\\phil\\Anaconda\\lib\\site-packages\\numpy\\lib\\npyio.pyc\u001b[0m in \u001b[0;36mload\u001b[1;34m(file, mmap_mode)\u001b[0m\n\u001b[0;32m    367\u001b[0m     \u001b[0mown_fid\u001b[0m \u001b[1;33m=\u001b[0m \u001b[0mFalse\u001b[0m\u001b[1;33m\u001b[0m\u001b[0m\n\u001b[0;32m    368\u001b[0m     \u001b[1;32mif\u001b[0m \u001b[0misinstance\u001b[0m\u001b[1;33m(\u001b[0m\u001b[0mfile\u001b[0m\u001b[1;33m,\u001b[0m \u001b[0mbasestring\u001b[0m\u001b[1;33m)\u001b[0m\u001b[1;33m:\u001b[0m\u001b[1;33m\u001b[0m\u001b[0m\n\u001b[1;32m--> 369\u001b[1;33m         \u001b[0mfid\u001b[0m \u001b[1;33m=\u001b[0m \u001b[0mopen\u001b[0m\u001b[1;33m(\u001b[0m\u001b[0mfile\u001b[0m\u001b[1;33m,\u001b[0m \u001b[1;34m\"rb\"\u001b[0m\u001b[1;33m)\u001b[0m\u001b[1;33m\u001b[0m\u001b[0m\n\u001b[0m\u001b[0;32m    370\u001b[0m         \u001b[0mown_fid\u001b[0m \u001b[1;33m=\u001b[0m \u001b[0mTrue\u001b[0m\u001b[1;33m\u001b[0m\u001b[0m\n\u001b[0;32m    371\u001b[0m     \u001b[1;32melif\u001b[0m \u001b[0misinstance\u001b[0m\u001b[1;33m(\u001b[0m\u001b[0mfile\u001b[0m\u001b[1;33m,\u001b[0m \u001b[0mgzip\u001b[0m\u001b[1;33m.\u001b[0m\u001b[0mGzipFile\u001b[0m\u001b[1;33m)\u001b[0m\u001b[1;33m:\u001b[0m\u001b[1;33m\u001b[0m\u001b[0m\n",
      "\u001b[1;31mIOError\u001b[0m: [Errno 2] No such file or directory: 'maze.npy'"
     ]
    }
   ],
   "source": [
    "import numpy as np\n",
    "M = np.load(\"maze.npy\")"
   ]
  },
  {
   "cell_type": "code",
   "execution_count": 69,
   "metadata": {
    "collapsed": false
   },
   "outputs": [],
   "source": [
    "import random\n",
    "M = np.zeros([100,100])\n",
    "for i in range(1000):\n",
    "    a = random.randint(0,99)\n",
    "    b = random.randint(0, 99)\n",
    "    if a != b:\n",
    "        M[a,b] = 1\n",
    "        M[b, a] = 1"
   ]
  },
  {
   "cell_type": "code",
   "execution_count": 70,
   "metadata": {
    "collapsed": true
   },
   "outputs": [],
   "source": [
    "# compute the transition probability matrix M\n",
    "N = np.zeros([100, 100])\n",
    "for i in range(100):\n",
    "    N[:,i] = M[:,i] / np.sum(M[:,i])"
   ]
  },
  {
   "cell_type": "code",
   "execution_count": 73,
   "metadata": {
    "collapsed": false
   },
   "outputs": [],
   "source": [
    "# compute the shortest path, broad search\n",
    "reached = np.zeros([100])\n",
    "reached[0] = 1\n",
    "last = [0]\n",
    "while reached[99] == 0 and len(last) > 0:\n",
    "    news = []\n",
    "    for n in last:\n",
    "        l = [i for i in range(100) if reached[i] == 0 and M[i, n] == 1]\n",
    "        for i in l:\n",
    "            reached[i] = n +2\n",
    "        news.extend(l)\n",
    "    last = news"
   ]
  },
  {
   "cell_type": "code",
   "execution_count": 75,
   "metadata": {
    "collapsed": false
   },
   "outputs": [
    {
     "name": "stdout",
     "output_type": "stream",
     "text": [
      "The (or one of the) fastest path from room 0 to room 99 is:\n",
      "[0, 8, 60, 99]\n"
     ]
    }
   ],
   "source": [
    "path = [99]\n",
    "pos = 99\n",
    "while pos != 0:\n",
    "    pos = reached[pos] - 2\n",
    "    path.append(int(pos))\n",
    "print \"The (or one of the) fastest path from room 0 to room 99 is:\"\n",
    "print path[::-1]"
   ]
  },
  {
   "cell_type": "code",
   "execution_count": 74,
   "metadata": {
    "collapsed": false
   },
   "outputs": [
    {
     "data": {
      "text/plain": [
       "array([  1.,  22.,  75.,  19.,  21.,  30.,  88.,  19.,   2.,  21.,  19.,\n",
       "        10.,  19.,  20.,  27.,  54.,  28.,   2.,  10.,   2.,   2.,  22.,\n",
       "        75.,  49.,  21.,   2.,  10.,   2.,   2.,  69.,  29.,  29.,  22.,\n",
       "        10.,  19.,  27.,  30.,  29.,  19.,  97.,  94.,  10.,  75.,  75.,\n",
       "        22.,  97.,  10.,   2.,  88.,  27.,  21.,  10.,   2.,  10.,  20.,\n",
       "        19.,  21.,  22.,  69.,  49.,  10.,  21.,  69.,  88.,  10.,  22.,\n",
       "        48.,   2.,  10.,  10.,  10.,  19.,  29.,   2.,  10.,  10.,  19.,\n",
       "        69.,  27.,  49.,  19.,  10.,  21.,  49.,  49.,   2.,   2.,  19.,\n",
       "        19.,  10.,  28.,  10.,   2.,  29.,  22.,   2.,  10.,   2.,  10.,\n",
       "        62.])"
      ]
     },
     "execution_count": 74,
     "metadata": {},
     "output_type": "execute_result"
    }
   ],
   "source": [
    "reached"
   ]
  },
  {
   "cell_type": "raw",
   "metadata": {},
   "source": []
  },
  {
   "cell_type": "code",
   "execution_count": 76,
   "metadata": {
    "collapsed": false
   },
   "outputs": [],
   "source": [
    "# find the most likely path from 0 to 99\n",
    "reached = np.zeros([100,2])\n",
    "reached[0,:] = [1, 1.]\n",
    "last = [0]\n",
    "while len(last) > 0:\n",
    "    news = set()\n",
    "    for l in last:\n",
    "        p = reached[l,1]\n",
    "        p_n = 1. / np.sum(M[:,l]) *p\n",
    "        n = [i for i in range(100) if M[i,l] == 1 and p_n > reached[i,1]]\n",
    "        for n_ in n:\n",
    "            reached[n_,0] = l + 2\n",
    "            reached[n_,1]= p_n\n",
    "        news = news.union(n)\n",
    "    last = news"
   ]
  },
  {
   "cell_type": "code",
   "execution_count": 77,
   "metadata": {
    "collapsed": false
   },
   "outputs": [
    {
     "name": "stdout",
     "output_type": "stream",
     "text": [
      "The (or one of the) fastest path from room 0 to room 99 is:\n",
      "[0, 20, 44, 99]\n",
      "With probability 0.000321\n"
     ]
    }
   ],
   "source": [
    "path = [99]\n",
    "pos = 99\n",
    "while pos != 0:\n",
    "    pos = reached[pos,0] - 2\n",
    "    path.append(int(pos))\n",
    "print \"The (or one of the) fastest path from room 0 to room 99 is:\"\n",
    "print path[::-1]\n",
    "print \"With probability %f\" % reached[99, 1]"
   ]
  },
  {
   "cell_type": "code",
   "execution_count": 58,
   "metadata": {
    "collapsed": false
   },
   "outputs": [
    {
     "data": {
      "text/plain": [
       "0.0025575447570332483"
      ]
     },
     "execution_count": 58,
     "metadata": {},
     "output_type": "execute_result"
    }
   ],
   "source": []
  },
  {
   "cell_type": "code",
   "execution_count": null,
   "metadata": {
    "collapsed": true
   },
   "outputs": [],
   "source": []
  }
 ],
 "metadata": {
  "kernelspec": {
   "display_name": "Python 2",
   "language": "python",
   "name": "python2"
  },
  "language_info": {
   "codemirror_mode": {
    "name": "ipython",
    "version": 2
   },
   "file_extension": ".py",
   "mimetype": "text/x-python",
   "name": "python",
   "nbconvert_exporter": "python",
   "pygments_lexer": "ipython2",
   "version": "2.7.10"
  }
 },
 "nbformat": 4,
 "nbformat_minor": 0
}
